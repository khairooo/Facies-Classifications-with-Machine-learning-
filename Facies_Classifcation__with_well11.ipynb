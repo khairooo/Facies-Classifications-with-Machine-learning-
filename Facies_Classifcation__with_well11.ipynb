{
  "cells": [
    {
      "cell_type": "markdown",
      "metadata": {
        "id": "RWedawO2v0EO"
      },
      "source": [
        " Throughout this project we are going to use AI to analyse geological datasets where we have 7 columns and 23611 entries \n",
        "\n",
        " -  Columns are :\n",
        "` 'Well', 'M.Depth', 'GR', 'NPHI', 'RHOB', 'RT'` as the features\n",
        " - , 'GE_Main' as the target column"
      ]
    },
    {
      "cell_type": "code",
      "execution_count": null,
      "metadata": {
        "id": "M0esBSRuv0ES"
      },
      "outputs": [],
      "source": [
        "# Mouhamed MAMMAr\n",
        "\n",
        "# Uploading Libraries\n",
        "import pandas as pd\n",
        "import numpy as np\n",
        "import matplotlib.pyplot as plt\n",
        "import seaborn as sns\n",
        "import matplotlib.colors as colors\n",
        "###########\n",
        "from sklearn.model_selection import train_test_split #for split the data\n",
        "from sklearn.metrics import accuracy_score  #for accuracy_score\n",
        "from sklearn.model_selection import KFold #for K-fold cross validation\n",
        "from sklearn.model_selection import cross_val_score #score evaluation\n",
        "from sklearn.model_selection import cross_val_predict #prediction\n",
        "from sklearn.metrics import confusion_matrix #for confusion matrix\n",
        "from sklearn.model_selection import GridSearchCV # Grid search cross validation\n",
        "######################\n",
        "import warnings\n",
        "from warnings import simplefilter\n",
        "# ignore all warnings\n",
        "simplefilter(action='ignore')\n",
        "############################################################\n",
        "from mpl_toolkits.axes_grid1 import make_axes_locatable\n",
        "from sklearn.metrics import classification_report # for the report, precision scall,accuracy\n",
        "# Import preprocsessing\n",
        "from sklearn import preprocessing # Import preprocsessing\n",
        "from xgboost.sklearn import XGBClassifier # XGBOOST classifier\n",
        "import xgboost as xgb # XGBOOST\n",
        "from sklearn.neighbors import KNeighborsClassifier # KNN\n",
        "from sklearn.svm import SVC, LinearSVC # SVM\n",
        "from sklearn.ensemble import RandomForestClassifier # Random Forests\n",
        "from sklearn.linear_model import LogisticRegression # Logistic Regression\n",
        "# creating initial dataframe\n",
        "from sklearn.preprocessing import LabelEncoder\n"
      ]
    },
    {
      "cell_type": "markdown",
      "metadata": {
        "id": "Z16j3YH_v0ET"
      },
      "source": [
        "### Read The Data as a Dataframe"
      ]
    },
    {
      "cell_type": "code",
      "execution_count": null,
      "metadata": {
        "id": "aboAmplkv0EU"
      },
      "outputs": [],
      "source": [
        "data =pd.read_excel(r\"C:\\Users\\dell\\Downloads\\i9999_logs_export_modified_10_wells.xlsm\")\n",
        "data1 = data.copy()"
      ]
    },
    {
      "cell_type": "markdown",
      "metadata": {
        "id": "p_a6PGgtv0EU"
      },
      "source": [
        "# Exploratory Data Anlysis, Feature Engineering"
      ]
    },
    {
      "cell_type": "markdown",
      "metadata": {
        "id": "Rb8WAiJYv0EV"
      },
      "source": [
        "###"
      ]
    },
    {
      "cell_type": "code",
      "execution_count": null,
      "metadata": {
        "colab": {
          "base_uri": "https://localhost:8080/",
          "height": 204
        },
        "id": "QlfheWM_v0EV",
        "outputId": "bb3f587f-0d0e-4744-934f-6d3a1fa1186f"
      },
      "outputs": [
        {
          "data": {
            "text/html": [
              "<div>\n",
              "<style scoped>\n",
              "    .dataframe tbody tr th:only-of-type {\n",
              "        vertical-align: middle;\n",
              "    }\n",
              "\n",
              "    .dataframe tbody tr th {\n",
              "        vertical-align: top;\n",
              "    }\n",
              "\n",
              "    .dataframe thead th {\n",
              "        text-align: right;\n",
              "    }\n",
              "</style>\n",
              "<table border=\"1\" class=\"dataframe\">\n",
              "  <thead>\n",
              "    <tr style=\"text-align: right;\">\n",
              "      <th></th>\n",
              "      <th>Well</th>\n",
              "      <th>M.Depth</th>\n",
              "      <th>GR</th>\n",
              "      <th>NPHI</th>\n",
              "      <th>RHOB</th>\n",
              "      <th>RT</th>\n",
              "      <th>GE_Main</th>\n",
              "    </tr>\n",
              "  </thead>\n",
              "  <tbody>\n",
              "    <tr>\n",
              "      <th>0</th>\n",
              "      <td>NaN</td>\n",
              "      <td>FT</td>\n",
              "      <td>GAPI</td>\n",
              "      <td>V/V</td>\n",
              "      <td>G/CC</td>\n",
              "      <td>OHMM</td>\n",
              "      <td>NaN</td>\n",
              "    </tr>\n",
              "    <tr>\n",
              "      <th>1</th>\n",
              "      <td>1.0</td>\n",
              "      <td>4010</td>\n",
              "      <td>84.694</td>\n",
              "      <td>0.50674</td>\n",
              "      <td>2.278</td>\n",
              "      <td>0.885</td>\n",
              "      <td>DO</td>\n",
              "    </tr>\n",
              "    <tr>\n",
              "      <th>2</th>\n",
              "      <td>1.0</td>\n",
              "      <td>4010.5</td>\n",
              "      <td>82.626</td>\n",
              "      <td>0.51526</td>\n",
              "      <td>2.252</td>\n",
              "      <td>0.875</td>\n",
              "      <td>DO</td>\n",
              "    </tr>\n",
              "    <tr>\n",
              "      <th>3</th>\n",
              "      <td>1.0</td>\n",
              "      <td>4011</td>\n",
              "      <td>80.79</td>\n",
              "      <td>0.51195</td>\n",
              "      <td>2.237</td>\n",
              "      <td>0.854</td>\n",
              "      <td>DO</td>\n",
              "    </tr>\n",
              "    <tr>\n",
              "      <th>4</th>\n",
              "      <td>1.0</td>\n",
              "      <td>4011.5</td>\n",
              "      <td>80.209</td>\n",
              "      <td>0.48551</td>\n",
              "      <td>2.225</td>\n",
              "      <td>0.83</td>\n",
              "      <td>DO</td>\n",
              "    </tr>\n",
              "  </tbody>\n",
              "</table>\n",
              "</div>"
            ],
            "text/plain": [
              "   Well M.Depth      GR     NPHI   RHOB     RT GE_Main\n",
              "0   NaN      FT    GAPI      V/V   G/CC   OHMM     NaN\n",
              "1   1.0    4010  84.694  0.50674  2.278  0.885      DO\n",
              "2   1.0  4010.5  82.626  0.51526  2.252  0.875      DO\n",
              "3   1.0    4011   80.79  0.51195  2.237  0.854      DO\n",
              "4   1.0  4011.5  80.209  0.48551  2.225   0.83      DO"
            ]
          },
          "execution_count": 3,
          "metadata": {},
          "output_type": "execute_result"
        }
      ],
      "source": [
        "data.head()"
      ]
    },
    {
      "cell_type": "markdown",
      "metadata": {
        "id": "qYBra-tGv0EW"
      },
      "source": [
        "- The second row for each column represents unit of measure, which means we are able if we drop it that doesn't effect the results"
      ]
    },
    {
      "cell_type": "code",
      "execution_count": null,
      "metadata": {
        "id": "6XypvmvKv0EX"
      },
      "outputs": [],
      "source": [
        "# Drop the first row (row of units)\n",
        "data.drop(index=[0], inplace= True)\n",
        "# data.head()"
      ]
    },
    {
      "cell_type": "code",
      "execution_count": null,
      "metadata": {
        "colab": {
          "base_uri": "https://localhost:8080/"
        },
        "id": "EGS1NFGOv0EY",
        "outputId": "c83aab50-0c4d-482b-e1b2-a86617a87a08"
      },
      "outputs": [
        {
          "data": {
            "text/plain": [
              "pandas.core.frame.DataFrame"
            ]
          },
          "execution_count": 5,
          "metadata": {},
          "output_type": "execute_result"
        }
      ],
      "source": [
        "type(data)"
      ]
    },
    {
      "cell_type": "code",
      "execution_count": null,
      "metadata": {
        "colab": {
          "base_uri": "https://localhost:8080/"
        },
        "id": "1QjPu61jv0EY",
        "outputId": "0e239882-7f26-4d0b-b71d-1e858859a585"
      },
      "outputs": [
        {
          "data": {
            "text/plain": [
              "Index(['Well', 'M.Depth', 'GR', 'NPHI', 'RHOB', 'RT', 'GE_Main'], dtype='object')"
            ]
          },
          "execution_count": 6,
          "metadata": {},
          "output_type": "execute_result"
        }
      ],
      "source": [
        "data.columns"
      ]
    },
    {
      "cell_type": "code",
      "execution_count": null,
      "metadata": {
        "colab": {
          "base_uri": "https://localhost:8080/"
        },
        "id": "g2793iT8v0EZ",
        "outputId": "37c40678-6cdb-4c1c-c114-ee9fae2ae27f"
      },
      "outputs": [
        {
          "data": {
            "text/plain": [
              "(23610, 7)"
            ]
          },
          "execution_count": 7,
          "metadata": {},
          "output_type": "execute_result"
        }
      ],
      "source": [
        "data.shape"
      ]
    },
    {
      "cell_type": "markdown",
      "metadata": {
        "id": "ankE38z_v0EZ"
      },
      "source": [
        "- It can be seen that we have 223611 rows and 7 columns"
      ]
    },
    {
      "cell_type": "code",
      "execution_count": null,
      "metadata": {
        "colab": {
          "base_uri": "https://localhost:8080/",
          "height": 204
        },
        "id": "He917o0qv0Ea",
        "outputId": "a720b9c2-faf2-46ac-9b86-9527a762d577"
      },
      "outputs": [
        {
          "data": {
            "text/html": [
              "<div>\n",
              "<style scoped>\n",
              "    .dataframe tbody tr th:only-of-type {\n",
              "        vertical-align: middle;\n",
              "    }\n",
              "\n",
              "    .dataframe tbody tr th {\n",
              "        vertical-align: top;\n",
              "    }\n",
              "\n",
              "    .dataframe thead th {\n",
              "        text-align: right;\n",
              "    }\n",
              "</style>\n",
              "<table border=\"1\" class=\"dataframe\">\n",
              "  <thead>\n",
              "    <tr style=\"text-align: right;\">\n",
              "      <th></th>\n",
              "      <th>Well</th>\n",
              "      <th>M.Depth</th>\n",
              "      <th>GR</th>\n",
              "      <th>NPHI</th>\n",
              "      <th>RHOB</th>\n",
              "      <th>RT</th>\n",
              "      <th>GE_Main</th>\n",
              "    </tr>\n",
              "  </thead>\n",
              "  <tbody>\n",
              "    <tr>\n",
              "      <th>23606</th>\n",
              "      <td>10.0</td>\n",
              "      <td>5101.5</td>\n",
              "      <td>12.5831</td>\n",
              "      <td>0.27593</td>\n",
              "      <td>2.1986</td>\n",
              "      <td>0.2443</td>\n",
              "      <td>CH</td>\n",
              "    </tr>\n",
              "    <tr>\n",
              "      <th>23607</th>\n",
              "      <td>10.0</td>\n",
              "      <td>5102</td>\n",
              "      <td>18.0917</td>\n",
              "      <td>0.28037</td>\n",
              "      <td>2.2212</td>\n",
              "      <td>0.3015</td>\n",
              "      <td>CH</td>\n",
              "    </tr>\n",
              "    <tr>\n",
              "      <th>23608</th>\n",
              "      <td>10.0</td>\n",
              "      <td>5102.5</td>\n",
              "      <td>22.9285</td>\n",
              "      <td>0.28242</td>\n",
              "      <td>2.2481</td>\n",
              "      <td>0.3856</td>\n",
              "      <td>CH</td>\n",
              "    </tr>\n",
              "    <tr>\n",
              "      <th>23609</th>\n",
              "      <td>10.0</td>\n",
              "      <td>5103</td>\n",
              "      <td>26.6871</td>\n",
              "      <td>0.28514</td>\n",
              "      <td>2.2712</td>\n",
              "      <td>0.4729</td>\n",
              "      <td>CH</td>\n",
              "    </tr>\n",
              "    <tr>\n",
              "      <th>23610</th>\n",
              "      <td>10.0</td>\n",
              "      <td>5103.5</td>\n",
              "      <td>30.0862</td>\n",
              "      <td>0.29117</td>\n",
              "      <td>2.2831</td>\n",
              "      <td>0.5333</td>\n",
              "      <td>CH</td>\n",
              "    </tr>\n",
              "  </tbody>\n",
              "</table>\n",
              "</div>"
            ],
            "text/plain": [
              "       Well M.Depth       GR     NPHI    RHOB      RT GE_Main\n",
              "23606  10.0  5101.5  12.5831  0.27593  2.1986  0.2443      CH\n",
              "23607  10.0    5102  18.0917  0.28037  2.2212  0.3015      CH\n",
              "23608  10.0  5102.5  22.9285  0.28242  2.2481  0.3856      CH\n",
              "23609  10.0    5103  26.6871  0.28514  2.2712  0.4729      CH\n",
              "23610  10.0  5103.5  30.0862  0.29117  2.2831  0.5333      CH"
            ]
          },
          "execution_count": 8,
          "metadata": {},
          "output_type": "execute_result"
        }
      ],
      "source": [
        "data.tail()"
      ]
    },
    {
      "cell_type": "markdown",
      "metadata": {
        "id": "76d1RGWDv0Ea"
      },
      "source": [
        "**tail()** allows us to show the last 5 rows"
      ]
    },
    {
      "cell_type": "code",
      "execution_count": null,
      "metadata": {
        "colab": {
          "base_uri": "https://localhost:8080/"
        },
        "id": "y_3-MxpRv0Ea",
        "outputId": "f6f7325a-b388-475b-aee9-98a5613760df"
      },
      "outputs": [
        {
          "name": "stdout",
          "output_type": "stream",
          "text": [
            "<class 'pandas.core.frame.DataFrame'>\n",
            "Int64Index: 23610 entries, 1 to 23610\n",
            "Data columns (total 7 columns):\n",
            "Well       23610 non-null float64\n",
            "M.Depth    23610 non-null object\n",
            "GR         23610 non-null object\n",
            "NPHI       23610 non-null object\n",
            "RHOB       23610 non-null object\n",
            "RT         23576 non-null object\n",
            "GE_Main    23610 non-null object\n",
            "dtypes: float64(1), object(6)\n",
            "memory usage: 1.4+ MB\n"
          ]
        }
      ],
      "source": [
        "data.info()"
      ]
    },
    {
      "cell_type": "markdown",
      "metadata": {
        "id": "6qYxtbrGv0Eb"
      },
      "source": [
        "**info():**\n",
        "It's like a magic function where we get informed more precisely about the Dataset, depending on the table above:\n",
        "- We have 7 columns and 23611 rows with the index of 0 to 23610\n",
        "- Data types here are :\n",
        "\n",
        "- Well :                 float64\n",
        "- M.Depth :              object\n",
        "- GR       :             object\n",
        "- NPHI      :            object\n",
        "- RHOB       :           object\n",
        "- RT          :          object\n",
        "- GE_Main      :         object\n"
      ]
    },
    {
      "cell_type": "markdown",
      "metadata": {
        "id": "SbNEHLuqw_MD"
      },
      "source": [
        "### Detecting Missing Values"
      ]
    },
    {
      "cell_type": "code",
      "execution_count": null,
      "metadata": {
        "colab": {
          "base_uri": "https://localhost:8080/"
        },
        "id": "p91kNAG0v0Eb",
        "outputId": "8365fd08-1a91-426b-bc73-eb603fe86ec5"
      },
      "outputs": [
        {
          "data": {
            "text/plain": [
              "Well        0\n",
              "M.Depth     0\n",
              "GR          0\n",
              "NPHI        0\n",
              "RHOB        0\n",
              "RT         34\n",
              "GE_Main     0\n",
              "dtype: int64"
            ]
          },
          "execution_count": 10,
          "metadata": {},
          "output_type": "execute_result"
        }
      ],
      "source": [
        "data.isnull().sum()"
      ]
    },
    {
      "cell_type": "markdown",
      "metadata": {
        "id": "JNRWMXslv0Ec"
      },
      "source": [
        "As expected we have `34` values as Null values in the column of `RT`"
      ]
    },
    {
      "cell_type": "code",
      "execution_count": null,
      "metadata": {
        "id": "XfWdV5kmv0Ec"
      },
      "outputs": [],
      "source": [
        "# Coverting The data types to Floats and integers\n",
        "# When we received the data the most columns provided as objects, so we have to convert them to floats and integers\n",
        "# The feature well it can be converted to int or objet because it is not a sensitive case when we want to predict the type of the GE_Main\n",
        "data[\"Well\"] = data[\"Well\"].astype(int)\n",
        "data[\"M.Depth\"] = data[\"M.Depth\"].astype(float)\n",
        "data[\"GR\"] = data.GR.astype(float)\n",
        "data[\"NPHI\"] = data.NPHI.astype(float)\n",
        "data[\"RHOB\"] = data.RHOB.astype(float)"
      ]
    },
    {
      "cell_type": "code",
      "execution_count": null,
      "metadata": {
        "colab": {
          "base_uri": "https://localhost:8080/"
        },
        "id": "vhruQmw_v0Ec",
        "outputId": "d31e3e89-7b1b-4efa-cb45-6ef5672a6522"
      },
      "outputs": [
        {
          "name": "stdout",
          "output_type": "stream",
          "text": [
            "<class 'pandas.core.frame.DataFrame'>\n",
            "Int64Index: 23610 entries, 1 to 23610\n",
            "Data columns (total 7 columns):\n",
            "Well       23610 non-null int32\n",
            "M.Depth    23610 non-null float64\n",
            "GR         23610 non-null float64\n",
            "NPHI       23610 non-null float64\n",
            "RHOB       23610 non-null float64\n",
            "RT         23576 non-null object\n",
            "GE_Main    23610 non-null object\n",
            "dtypes: float64(4), int32(1), object(2)\n",
            "memory usage: 1.4+ MB\n"
          ]
        }
      ],
      "source": [
        "data.info()"
      ]
    },
    {
      "cell_type": "markdown",
      "metadata": {
        "id": "sqHx7zqHv0Ec"
      },
      "source": [
        "**Hint:**\n",
        "- RT column contains missing Data and as we discussed With M. Anis Seksaf We are able to drop it  "
      ]
    },
    {
      "cell_type": "code",
      "execution_count": null,
      "metadata": {
        "id": "La5P9PhWv0Ed"
      },
      "outputs": [],
      "source": [
        "# Drop RT Column\n",
        "data.drop(\"RT\",axis = 1,inplace = True)"
      ]
    },
    {
      "cell_type": "code",
      "execution_count": null,
      "metadata": {
        "colab": {
          "base_uri": "https://localhost:8080/"
        },
        "id": "Ie8zlXa7v0Ed",
        "outputId": "a727c769-55f0-48b0-fdd2-4620bdd8d76d"
      },
      "outputs": [
        {
          "data": {
            "text/plain": [
              "Index(['Well', 'M.Depth', 'GR', 'NPHI', 'RHOB', 'GE_Main'], dtype='object')"
            ]
          },
          "execution_count": 14,
          "metadata": {},
          "output_type": "execute_result"
        }
      ],
      "source": [
        "data.columns"
      ]
    },
    {
      "cell_type": "code",
      "execution_count": null,
      "metadata": {
        "colab": {
          "base_uri": "https://localhost:8080/",
          "height": 297
        },
        "id": "Y87vxm36v0Ed",
        "outputId": "ebdcae55-88da-4837-af5a-cec270b676e4"
      },
      "outputs": [
        {
          "data": {
            "text/html": [
              "<div>\n",
              "<style scoped>\n",
              "    .dataframe tbody tr th:only-of-type {\n",
              "        vertical-align: middle;\n",
              "    }\n",
              "\n",
              "    .dataframe tbody tr th {\n",
              "        vertical-align: top;\n",
              "    }\n",
              "\n",
              "    .dataframe thead th {\n",
              "        text-align: right;\n",
              "    }\n",
              "</style>\n",
              "<table border=\"1\" class=\"dataframe\">\n",
              "  <thead>\n",
              "    <tr style=\"text-align: right;\">\n",
              "      <th></th>\n",
              "      <th>Well</th>\n",
              "      <th>M.Depth</th>\n",
              "      <th>GR</th>\n",
              "      <th>NPHI</th>\n",
              "      <th>RHOB</th>\n",
              "    </tr>\n",
              "  </thead>\n",
              "  <tbody>\n",
              "    <tr>\n",
              "      <th>count</th>\n",
              "      <td>23610.000000</td>\n",
              "      <td>23610.000000</td>\n",
              "      <td>23610.000000</td>\n",
              "      <td>23610.000000</td>\n",
              "      <td>23610.000000</td>\n",
              "    </tr>\n",
              "    <tr>\n",
              "      <th>mean</th>\n",
              "      <td>5.752139</td>\n",
              "      <td>4539.015534</td>\n",
              "      <td>45.185285</td>\n",
              "      <td>0.327812</td>\n",
              "      <td>2.244390</td>\n",
              "    </tr>\n",
              "    <tr>\n",
              "      <th>std</th>\n",
              "      <td>2.740221</td>\n",
              "      <td>279.922638</td>\n",
              "      <td>18.462192</td>\n",
              "      <td>0.089914</td>\n",
              "      <td>0.140827</td>\n",
              "    </tr>\n",
              "    <tr>\n",
              "      <th>min</th>\n",
              "      <td>1.000000</td>\n",
              "      <td>3860.000000</td>\n",
              "      <td>2.673000</td>\n",
              "      <td>0.064480</td>\n",
              "      <td>1.469400</td>\n",
              "    </tr>\n",
              "    <tr>\n",
              "      <th>25%</th>\n",
              "      <td>4.000000</td>\n",
              "      <td>4311.500000</td>\n",
              "      <td>30.948358</td>\n",
              "      <td>0.272770</td>\n",
              "      <td>2.154600</td>\n",
              "    </tr>\n",
              "    <tr>\n",
              "      <th>50%</th>\n",
              "      <td>6.000000</td>\n",
              "      <td>4538.500000</td>\n",
              "      <td>45.829265</td>\n",
              "      <td>0.306785</td>\n",
              "      <td>2.225000</td>\n",
              "    </tr>\n",
              "    <tr>\n",
              "      <th>75%</th>\n",
              "      <td>8.000000</td>\n",
              "      <td>4765.500000</td>\n",
              "      <td>59.142350</td>\n",
              "      <td>0.369588</td>\n",
              "      <td>2.332100</td>\n",
              "    </tr>\n",
              "    <tr>\n",
              "      <th>max</th>\n",
              "      <td>10.000000</td>\n",
              "      <td>5143.500000</td>\n",
              "      <td>112.232600</td>\n",
              "      <td>0.836140</td>\n",
              "      <td>2.862400</td>\n",
              "    </tr>\n",
              "  </tbody>\n",
              "</table>\n",
              "</div>"
            ],
            "text/plain": [
              "               Well       M.Depth            GR          NPHI          RHOB\n",
              "count  23610.000000  23610.000000  23610.000000  23610.000000  23610.000000\n",
              "mean       5.752139   4539.015534     45.185285      0.327812      2.244390\n",
              "std        2.740221    279.922638     18.462192      0.089914      0.140827\n",
              "min        1.000000   3860.000000      2.673000      0.064480      1.469400\n",
              "25%        4.000000   4311.500000     30.948358      0.272770      2.154600\n",
              "50%        6.000000   4538.500000     45.829265      0.306785      2.225000\n",
              "75%        8.000000   4765.500000     59.142350      0.369588      2.332100\n",
              "max       10.000000   5143.500000    112.232600      0.836140      2.862400"
            ]
          },
          "execution_count": 15,
          "metadata": {},
          "output_type": "execute_result"
        }
      ],
      "source": [
        "# Brief statistical description (But this is not enough to describe if we start analysing statistically )\n",
        "data.describe()"
      ]
    },
    {
      "cell_type": "markdown",
      "metadata": {
        "id": "IQmKvMz6v0Ee"
      },
      "source": [
        "**The describe()** method is used for calculating some statistical data like **percentile**, **mean** and **std** of the numerical values of the Series or DataFrame. It analyzes both numeric and object series and also the DataFrame column sets of mixed data types."
      ]
    },
    {
      "cell_type": "code",
      "execution_count": null,
      "metadata": {
        "colab": {
          "base_uri": "https://localhost:8080/",
          "height": 704
        },
        "id": "9bAOdne0v0Ee",
        "outputId": "be531320-4478-47c7-f1ce-fb540229d536"
      },
      "outputs": [
        {
          "data": {
            "image/png": "[encoded data removed]",
            "text/plain": [
              "<Figure size 1080x864 with 2 Axes>"
            ]
          },
          "metadata": {
            "needs_background": "light"
          },
          "output_type": "display_data"
        }
      ],
      "source": [
        "# the Correlation between the features\n",
        "plt.figure(figsize = (15,12))\n",
        "sns.heatmap(data.corr(), annot = True);"
      ]
    },
    {
      "cell_type": "markdown",
      "metadata": {
        "id": "1i3A7O-Fv0Ee"
      },
      "source": [
        "- Correlation by descending odre :\n"
      ]
    },
    {
      "cell_type": "code",
      "execution_count": null,
      "metadata": {
        "colab": {
          "base_uri": "https://localhost:8080/"
        },
        "id": "6Ndjl3pHv0Ef",
        "outputId": "48216fe5-7e1d-433f-a017-a6b813048f1f"
      },
      "outputs": [
        {
          "data": {
            "text/plain": [
              "GR       M.Depth   -0.367760\n",
              "M.Depth  GR        -0.367760\n",
              "NPHI     M.Depth   -0.355606\n",
              "M.Depth  NPHI      -0.355606\n",
              "RHOB     NPHI      -0.207472\n",
              "NPHI     RHOB      -0.207472\n",
              "RHOB     M.Depth   -0.108488\n",
              "M.Depth  RHOB      -0.108488\n",
              "RHOB     Well      -0.060991\n",
              "Well     RHOB      -0.060991\n",
              "GR       Well      -0.011840\n",
              "Well     GR        -0.011840\n",
              "         NPHI       0.033237\n",
              "NPHI     Well       0.033237\n",
              "M.Depth  Well       0.154532\n",
              "Well     M.Depth    0.154532\n",
              "GR       RHOB       0.215827\n",
              "RHOB     GR         0.215827\n",
              "GR       NPHI       0.513956\n",
              "NPHI     GR         0.513956\n",
              "Well     Well       1.000000\n",
              "GR       GR         1.000000\n",
              "M.Depth  M.Depth    1.000000\n",
              "NPHI     NPHI       1.000000\n",
              "RHOB     RHOB       1.000000\n",
              "dtype: float64"
            ]
          },
          "execution_count": 17,
          "metadata": {},
          "output_type": "execute_result"
        }
      ],
      "source": [
        "data.corr().unstack(level= 1).sort_values()\n"
      ]
    },
    {
      "cell_type": "markdown",
      "metadata": {
        "id": "ir-P9dPfv0Ef"
      },
      "source": [
        "### Target column Exploration :\n",
        "In this Dataset **GE_Main** is the most important column that we are aiming to build the model, Exploring it, extract insights from it is highly important to make the model more precise and accurate"
      ]
    },
    {
      "cell_type": "code",
      "execution_count": null,
      "metadata": {
        "colab": {
          "base_uri": "https://localhost:8080/"
        },
        "id": "tsXxH6Lqv0Ef",
        "outputId": "ac56be97-f65f-4499-a954-fbd22406c627"
      },
      "outputs": [
        {
          "data": {
            "text/plain": [
              "CH      8172\n",
              "DO      5025\n",
              "LSF     1653\n",
              "PD      1231\n",
              "MB      1098\n",
              "CH.h     952\n",
              "DF       888\n",
              "PO       843\n",
              "IR       789\n",
              "CSF      659\n",
              "BM.L     534\n",
              "BM.H     468\n",
              "B        372\n",
              "AB       303\n",
              "FL       222\n",
              "ID       213\n",
              "SS        74\n",
              "MSF       64\n",
              "SF        43\n",
              "CS         7\n",
              "Name: GE_Main, dtype: int64"
            ]
          },
          "execution_count": 18,
          "metadata": {},
          "output_type": "execute_result"
        }
      ],
      "source": [
        "data.GE_Main.value_counts()"
      ]
    },
    {
      "cell_type": "markdown",
      "metadata": {
        "id": "MYghd19fS4rF"
      },
      "source": [
        "- The Results above illustrate that we have CH are more frequent with 8172 folowed by DO as second element with 5025\n",
        "\n",
        "The Next part we are going to focus more to study each Well alone to get different insights\n",
        "- The Question is Why I am doing such a kind of visualization ?\n",
        "  - The main reason is the **imbalaced Data**\n",
        "  - **Imbalanced data** typically refers to a problem with classification problems where the classes are not represented equally."
      ]
    },
    {
      "cell_type": "code",
      "execution_count": null,
      "metadata": {
        "colab": {
          "base_uri": "https://localhost:8080/",
          "height": 877
        },
        "id": "N7a7h5oRmr24",
        "outputId": "ae985eba-8840-4505-8ae3-ffcd36536c24"
      },
      "outputs": [
        {
          "data": {
            "image/png": "[encoded data removed]",
            "text/plain": [
              "<Figure size 1080x1080 with 1 Axes>"
            ]
          },
          "metadata": {
            "needs_background": "light"
          },
          "output_type": "display_data"
        }
      ],
      "source": [
        "# Visualization of the componant of each well\n",
        "plt.figure(figsize=(15,15))\n",
        "sns.countplot(x=\"Well\",hue = \"GE_Main\",data=data, saturation=0.85, color=\"blue\");"
      ]
    },
    {
      "cell_type": "markdown",
      "metadata": {
        "id": "wkLccq-fqF-n"
      },
      "source": [
        "The countplot above illustrates each `well` versus  the count of each component in  `GE_Main `"
      ]
    },
    {
      "cell_type": "code",
      "execution_count": null,
      "metadata": {
        "id": "RaxHhM0-dHr9"
      },
      "outputs": [],
      "source": [
        "labelencoder = LabelEncoder()\n",
        "data[\"GE_Main\"] = labelencoder.fit_transform(data[\"GE_Main\"])\n",
        "######\n",
        "# Let's add the column GE_Main_cat as the main values with GE_Main with encoded values\n",
        "data[\"GE_Main_cat\"] = data1[\"GE_Main\"]"
      ]
    },
    {
      "cell_type": "code",
      "execution_count": null,
      "metadata": {
        "colab": {
          "base_uri": "https://localhost:8080/"
        },
        "id": "IBXt8FWWqX73",
        "outputId": "74028445-508e-4656-f436-85852d5d0276"
      },
      "outputs": [
        {
          "name": "stdout",
          "output_type": "stream",
          "text": [
            "GE_Main before and after the Label encoding: \n",
            " DO       9\n",
            "CSF      7\n",
            "PO      17\n",
            "LSF     13\n",
            "AB       0\n",
            "CH.h     5\n",
            "B        1\n",
            "CH       4\n",
            "IR      12\n",
            "PD      16\n",
            "DF       8\n",
            "FL      10\n",
            "MB      14\n",
            "BM.H     2\n",
            "BM.L     3\n",
            "ID      11\n",
            "SS      19\n",
            "CS       6\n",
            "SF      18\n",
            "MSF     15\n",
            "dtype: int64\n"
          ]
        }
      ],
      "source": [
        "v = data[\"GE_Main_cat\"].unique()\n",
        "y_encoder = data[\"GE_Main\"].unique()\n",
        "x = pd.Series(y_encoder,v)\n",
        "\n",
        "print(\"GE_Main before and after the Label encoding: \\n\", x)"
      ]
    },
    {
      "cell_type": "markdown",
      "metadata": {
        "id": "BPNs7iOTjfCY"
      },
      "source": [
        "- In machine learning, we usually deal with datasets which contains multiple labels in one or more than one columns. These labels can be in the form of words or numbers. To make the data understandable or in human readable form, the training data is often labeled in words.\n",
        "\n",
        "- Label Encoding refers to converting the labels into numeric form so as to convert it into the machine-readable form. Machine learning algorithms can then decide in a better way on how those labels must be operated. It is an important pre-processing step for the structured dataset in supervised learning."
      ]
    },
    {
      "cell_type": "code",
      "execution_count": null,
      "metadata": {
        "colab": {
          "base_uri": "https://localhost:8080/",
          "height": 625
        },
        "id": "6hnW9LvhzFZp",
        "outputId": "1ba3f207-72e7-4400-8cc7-6bd3870c47da"
      },
      "outputs": [
        {
          "data": {
            "text/plain": [
              "<matplotlib.axes._subplots.AxesSubplot at 0x1e5e7d6a648>"
            ]
          },
          "execution_count": 22,
          "metadata": {},
          "output_type": "execute_result"
        },
        {
          "data": {
            "image/png": "[encoded data removed]",
            "text/plain": [
              "<Figure size 720x720 with 1 Axes>"
            ]
          },
          "metadata": {
            "needs_background": "light"
          },
          "output_type": "display_data"
        }
      ],
      "source": [
        "plt.figure(figsize=(10,10))\n",
        "data['GE_Main_cat'].value_counts().plot.bar(color= \"B\" )"
      ]
    },
    {
      "cell_type": "code",
      "execution_count": null,
      "metadata": {
        "id": "JHuiT9fFHvxB"
      },
      "outputs": [],
      "source": [
        "def create_plot(wellname, dataframe, curves_to_plot, depth_curve, log_curves=[], facies_curves=[]):\n",
        "    # Count the number of tracks we need\n",
        "    num_tracks = len(curves_to_plot)\n",
        "\n",
        "    facies_color = ['#F4D03F', '#F5B041','#DC7633','#6E2C00', '#1B4F72','#2E86C1', '#AED6F1', '#A569BD', '#196F3D', 'red','black', 'blue','#40E0D0','#CCCCFF','#DFFF00','green','yellow','#581845','#DAF7A6','#9FE2BF']\n",
        "\n",
        "    # Setup the figure and axes\n",
        "    fig, ax = plt.subplots(nrows=1, ncols=num_tracks, figsize=(num_tracks*2, 8))\n",
        "\n",
        "    # Create a super title for the entire plot\n",
        "    fig.suptitle(wellname, fontsize=20, y=1.05)\n",
        "\n",
        "    # Loop through each curve in curves_to_plot and create a track with that data\n",
        "    for i, curve in enumerate(curves_to_plot):\n",
        "        if curve in facies_curves:\n",
        "            cmap_facies = colors.ListedColormap(facies_color[0:dataframe[curve].max()], 'indexed')\n",
        "\n",
        "            cluster=np.repeat(np.expand_dims(dataframe[curve].values,1), 100, 1)\n",
        "            im=ax[i].imshow(cluster, interpolation='none', cmap=cmap_facies, aspect='auto',vmin=dataframe[curve].min(),vmax=dataframe[curve].max(),\n",
        "                            extent=[0,10, depth_curve.max(), depth_curve.min()])\n",
        "\n",
        "#             for key in lithology_setup.keys():\n",
        "#                 color = lithology_setup[key]['color']\n",
        "#                 ax[i].fill_betweenx(depth_curve, 0, dataframe[curve].max(),\n",
        "#                                   where=(dataframe[curve]==key),\n",
        "#                                   facecolor=color)\n",
        "#\n",
        "        else:\n",
        "            ax[i].plot(dataframe[curve], depth_curve)\n",
        "\n",
        "\n",
        "        # Setup a few plot cosmetics\n",
        "        ax[i].set_title(curve, fontsize=10, fontweight='bold')\n",
        "        ax[i].grid(which='major', color='lightgrey', linestyle='-')\n",
        "\n",
        "        # We want to pass in the deepest depth first, so we are displaying the data\n",
        "        # from shallow to deep\n",
        "        ax[i].set_ylim(depth_curve.max(), depth_curve.min())\n",
        "#         ax[i].set_ylim(3500, 3000)\n",
        "\n",
        "        # Only set the y-label for the first track. Hide it for the rest\n",
        "        if i == 0:\n",
        "            ax[i].set_ylabel('DEPTH (m)', fontsize=10, fontweight='bold')\n",
        "        else:\n",
        "            plt.setp(ax[i].get_yticklabels(), visible = False)\n",
        "\n",
        "        # Check to see if we have any logarithmic scaled curves\n",
        "        if curve in log_curves:\n",
        "            ax[i].set_xscale('log')\n",
        "            ax[i].grid(which='minor', color='lightgrey', linestyle='-')\n",
        "\n",
        "\n",
        "\n",
        "    plt.tight_layout()\n",
        "    plt.show()\n",
        "\n",
        "    return cmap_facies"
      ]
    },
    {
      "cell_type": "code",
      "execution_count": null,
      "metadata": {
        "id": "wEhq69F8I3-d"
      },
      "outputs": [],
      "source": [
        "grouped = data.groupby('Well')"
      ]
    },
    {
      "cell_type": "code",
      "execution_count": null,
      "metadata": {
        "id": "_AdoZzEEJKeE"
      },
      "outputs": [],
      "source": [
        "#grouped.head()"
      ]
    },
    {
      "cell_type": "code",
      "execution_count": null,
      "metadata": {
        "id": "oWf3Q5H2JXk4"
      },
      "outputs": [],
      "source": [
        "# Create empty lists\n",
        "dfs_wells = []\n",
        "wellnames = []\n",
        "\n",
        "#Split up the data by well\n",
        "for well, dat in grouped:\n",
        "    dfs_wells.append(dat)\n",
        "    wellnames.append(well)"
      ]
    },
    {
      "cell_type": "code",
      "execution_count": null,
      "metadata": {
        "colab": {
          "base_uri": "https://localhost:8080/"
        },
        "id": "R-nOVziSJeUP",
        "outputId": "0a043422-a89b-42ba-f8a6-7727b05f19c0"
      },
      "outputs": [
        {
          "name": "stdout",
          "output_type": "stream",
          "text": [
            "Index: 0 - 1\n",
            "Index: 1 - 2\n",
            "Index: 2 - 3\n",
            "Index: 3 - 4\n",
            "Index: 4 - 5\n",
            "Index: 5 - 6\n",
            "Index: 6 - 7\n",
            "Index: 7 - 8\n",
            "Index: 8 - 9\n",
            "Index: 9 - 10\n"
          ]
        }
      ],
      "source": [
        "# Here we have just created an interval for each Well to be able to create a visualization of our facies\n",
        "for i, well in enumerate(wellnames):\n",
        "    print(f'Index: {i} - {well}')"
      ]
    },
    {
      "cell_type": "code",
      "execution_count": null,
      "metadata": {
        "colab": {
          "base_uri": "https://localhost:8080/",
          "height": 642
        },
        "id": "zyFdZCooLJz5",
        "outputId": "5078364a-a167-40d7-dc5c-14800ee90754"
      },
      "outputs": [
        {
          "data": {
            "image/png": "[encoded data removed]",
            "text/plain": [
              "<Figure size 576x576 with 4 Axes>"
            ]
          },
          "metadata": {
            "needs_background": "light"
          },
          "output_type": "display_data"
        },
        {
          "data": {
            "text/plain": [
              "<matplotlib.colors.ListedColormap at 0x1e5e81fff08>"
            ]
          },
          "execution_count": 28,
          "metadata": {},
          "output_type": "execute_result"
        }
      ],
      "source": [
        "curves_to_plot = ['GR', 'NPHI', 'RHOB', 'GE_Main']\n",
        "logarithmic_curves = ['NPHI']\n",
        "facies_curve=['GE_Main']\n",
        "well = 0\n",
        "create_plot(wellnames[well],\n",
        "            dfs_wells[well],\n",
        "            curves_to_plot,\n",
        "            dfs_wells[well]['M.Depth'],\n",
        "            logarithmic_curves, facies_curve)"
      ]
    },
    {
      "cell_type": "markdown",
      "metadata": {
        "id": "G0z8VzxASO7L"
      },
      "source": [
        "The Illustration above illustrates the first `Well`\n",
        "to Avoid plagiarism: and for further information about the code above for how to visualize Well, check out the [Link](https://https://github.com/andymcdgeo/Unsupervised_Facies_Clustering/blob/main/Unsupervised%20Clustering.ipynb)"
      ]
    },
    {
      "cell_type": "markdown",
      "metadata": {
        "id": "zZOe6DBB3RVg"
      },
      "source": [
        "## Modeling"
      ]
    },
    {
      "cell_type": "markdown",
      "metadata": {
        "id": "S0PVQbCk3VvX"
      },
      "source": [
        "*  In this study, we notice that we are facing supervised data since we have the output column which is `\"GE_Main\"`. We therefore use the supervised learning algorithms\n",
        "\n",
        "* We are going to focus more in Hyperparameters tuning to get the best results as well as avoiding the overfitting and underfitting problems that the most Machine learning developpers encounter with\n",
        "* Finally, we will use one of the cross validation methods `(Kfold)` for a possible improvement of our model"
      ]
    },
    {
      "cell_type": "markdown",
      "metadata": {
        "id": "iPMDfxPfczMY"
      },
      "source": [
        "### Feature Selection"
      ]
    },
    {
      "cell_type": "markdown",
      "metadata": {
        "id": "_AnCdu93dWeU"
      },
      "source": [
        "- There are a lot of tehniques that allows us to select wich features we use, but here we are able to know wich ones are good for the model"
      ]
    },
    {
      "cell_type": "code",
      "execution_count": null,
      "metadata": {
        "colab": {
          "base_uri": "https://localhost:8080/",
          "height": 204
        },
        "id": "6Royi68_cYCq",
        "outputId": "b33b9f71-bb68-41fc-f414-cc2c930d5489"
      },
      "outputs": [
        {
          "data": {
            "text/html": [
              "<div>\n",
              "<style scoped>\n",
              "    .dataframe tbody tr th:only-of-type {\n",
              "        vertical-align: middle;\n",
              "    }\n",
              "\n",
              "    .dataframe tbody tr th {\n",
              "        vertical-align: top;\n",
              "    }\n",
              "\n",
              "    .dataframe thead th {\n",
              "        text-align: right;\n",
              "    }\n",
              "</style>\n",
              "<table border=\"1\" class=\"dataframe\">\n",
              "  <thead>\n",
              "    <tr style=\"text-align: right;\">\n",
              "      <th></th>\n",
              "      <th>Well</th>\n",
              "      <th>M.Depth</th>\n",
              "      <th>GR</th>\n",
              "      <th>NPHI</th>\n",
              "      <th>RHOB</th>\n",
              "      <th>GE_Main</th>\n",
              "    </tr>\n",
              "  </thead>\n",
              "  <tbody>\n",
              "    <tr>\n",
              "      <th>1</th>\n",
              "      <td>1</td>\n",
              "      <td>4010.0</td>\n",
              "      <td>84.694</td>\n",
              "      <td>0.50674</td>\n",
              "      <td>2.278</td>\n",
              "      <td>9</td>\n",
              "    </tr>\n",
              "    <tr>\n",
              "      <th>2</th>\n",
              "      <td>1</td>\n",
              "      <td>4010.5</td>\n",
              "      <td>82.626</td>\n",
              "      <td>0.51526</td>\n",
              "      <td>2.252</td>\n",
              "      <td>9</td>\n",
              "    </tr>\n",
              "    <tr>\n",
              "      <th>3</th>\n",
              "      <td>1</td>\n",
              "      <td>4011.0</td>\n",
              "      <td>80.790</td>\n",
              "      <td>0.51195</td>\n",
              "      <td>2.237</td>\n",
              "      <td>9</td>\n",
              "    </tr>\n",
              "    <tr>\n",
              "      <th>4</th>\n",
              "      <td>1</td>\n",
              "      <td>4011.5</td>\n",
              "      <td>80.209</td>\n",
              "      <td>0.48551</td>\n",
              "      <td>2.225</td>\n",
              "      <td>9</td>\n",
              "    </tr>\n",
              "    <tr>\n",
              "      <th>5</th>\n",
              "      <td>1</td>\n",
              "      <td>4012.0</td>\n",
              "      <td>79.661</td>\n",
              "      <td>0.45111</td>\n",
              "      <td>2.203</td>\n",
              "      <td>9</td>\n",
              "    </tr>\n",
              "  </tbody>\n",
              "</table>\n",
              "</div>"
            ],
            "text/plain": [
              "   Well  M.Depth      GR     NPHI   RHOB  GE_Main\n",
              "1     1   4010.0  84.694  0.50674  2.278        9\n",
              "2     1   4010.5  82.626  0.51526  2.252        9\n",
              "3     1   4011.0  80.790  0.51195  2.237        9\n",
              "4     1   4011.5  80.209  0.48551  2.225        9\n",
              "5     1   4012.0  79.661  0.45111  2.203        9"
            ]
          },
          "execution_count": 29,
          "metadata": {},
          "output_type": "execute_result"
        }
      ],
      "source": [
        "# In this part we split the data train test, but not by using train_test_split(), but by extracting the first Well as a test and all the remaining as a train Data\n",
        "# Let's create the subset Data with test (well01)\n",
        "\n",
        "well_test = data.loc[data[\"Well\"] ==1, ]\n",
        "well_test = well_test.drop(\"GE_Main_cat\", axis = 1)\n",
        "well_test.head()"
      ]
    },
    {
      "cell_type": "code",
      "execution_count": null,
      "metadata": {
        "colab": {
          "base_uri": "https://localhost:8080/"
        },
        "id": "h8Ral2K3kIui",
        "outputId": "c97e1f7a-5706-4a0a-d369-36ebe0fedebd"
      },
      "outputs": [
        {
          "data": {
            "text/plain": [
              "(1563, 6)"
            ]
          },
          "execution_count": 30,
          "metadata": {},
          "output_type": "execute_result"
        }
      ],
      "source": [
        "well_test.shape"
      ]
    },
    {
      "cell_type": "code",
      "execution_count": null,
      "metadata": {
        "id": "DJxHQZAykb_f"
      },
      "outputs": [],
      "source": [
        "# X: Respresents the features that we want to use to train the model\n",
        "X= data[1:].drop(columns = ['GE_Main', 'GE_Main_cat','Well'])\n",
        "# y: Target :predicted Data, The column GE_Main\n",
        "y = data[1:].drop(columns = ['Well', 'GE_Main_cat','M.Depth','GR','NPHI','RHOB'])"
      ]
    },
    {
      "cell_type": "code",
      "execution_count": null,
      "metadata": {
        "colab": {
          "base_uri": "https://localhost:8080/"
        },
        "id": "J4X3ThAn4eVW",
        "outputId": "0b1a759c-b03b-4d96-8886-434a62645d9d"
      },
      "outputs": [
        {
          "name": "stdout",
          "output_type": "stream",
          "text": [
            "The Train Data:        M.Depth        GR     NPHI    RHOB\n",
            "2       4010.5   82.6260  0.51526  2.2520\n",
            "3       4011.0   80.7900  0.51195  2.2370\n",
            "4       4011.5   80.2090  0.48551  2.2250\n",
            "5       4012.0   79.6610  0.45111  2.2030\n",
            "6       4012.5   78.9710  0.43483  2.1960\n",
            "7       4013.0   79.7610  0.43998  2.2200\n",
            "8       4013.5   81.1140  0.43073  2.2550\n",
            "9       4014.0   81.8930  0.41756  2.2670\n",
            "10      4014.5   82.8580  0.43789  2.2590\n",
            "11      4015.0   83.3710  0.47782  2.2550\n",
            "12      4015.5   82.7480  0.48494  2.2630\n",
            "13      4016.0   81.2250  0.45212  2.2780\n",
            "14      4016.5   79.4980  0.41001  2.3010\n",
            "15      4017.0   78.0320  0.37316  2.3340\n",
            "16      4017.5   77.4350  0.35454  2.3660\n",
            "17      4018.0   78.1190  0.35632  2.3700\n",
            "18      4018.5   79.8190  0.38619  2.3430\n",
            "19      4019.0   81.7750  0.43801  2.3080\n",
            "20      4019.5   83.2030  0.47382  2.2850\n",
            "21      4020.0   82.9480  0.46668  2.2830\n",
            "22      4020.5   80.4730  0.45721  2.2890\n",
            "23      4021.0   78.3360  0.46832  2.2900\n",
            "24      4021.5   78.6950  0.47477  2.2820\n",
            "25      4022.0   80.0210  0.48208  2.2720\n",
            "26      4022.5   80.5820  0.50643  2.2640\n",
            "27      4023.0   80.1730  0.51461  2.2630\n",
            "28      4023.5   79.0800  0.46984  2.2690\n",
            "29      4024.0   77.3400  0.42908  2.2780\n",
            "30      4024.5   76.3090  0.42951  2.2850\n",
            "31      4025.0   75.8870  0.44680  2.2910\n",
            "...        ...       ...      ...     ...\n",
            "23581   5089.0  110.1617  0.43058  2.3203\n",
            "23582   5089.5  108.9664  0.45246  2.2909\n",
            "23583   5090.0  101.7389  0.45983  2.2787\n",
            "23584   5090.5   86.6521  0.44846  2.2683\n",
            "23585   5091.0   64.6558  0.41540  2.2556\n",
            "23586   5091.5   43.5234  0.37304  2.2419\n",
            "23587   5092.0   30.2352  0.33154  2.2344\n",
            "23588   5092.5   25.3018  0.30461  2.2383\n",
            "23589   5093.0   25.8354  0.29460  2.2472\n",
            "23590   5093.5   28.3890  0.29202  2.2546\n",
            "23591   5094.0   31.1585  0.29221  2.2579\n",
            "23592   5094.5   32.1481  0.28769  2.2607\n",
            "23593   5095.0   30.0802  0.27468  2.2656\n",
            "23594   5095.5   26.4681  0.25985  2.2676\n",
            "23595   5096.0   21.4341  0.25416  2.2592\n",
            "23596   5096.5   16.6788  0.25848  2.2412\n",
            "23597   5097.0   12.2409  0.26857  2.2213\n",
            "23598   5097.5    9.3402  0.27937  2.2103\n",
            "23599   5098.0    8.1406  0.28904  2.2059\n",
            "23600   5098.5    7.8101  0.29503  2.2014\n",
            "23601   5099.0    8.7453  0.29487  2.1972\n",
            "23602   5099.5    8.7701  0.28865  2.1937\n",
            "23603   5100.0    8.2703  0.27902  2.1932\n",
            "23604   5100.5    8.0557  0.27224  2.1911\n",
            "23605   5101.0    9.0749  0.27135  2.1889\n",
            "23606   5101.5   12.5831  0.27593  2.1986\n",
            "23607   5102.0   18.0917  0.28037  2.2212\n",
            "23608   5102.5   22.9285  0.28242  2.2481\n",
            "23609   5103.0   26.6871  0.28514  2.2712\n",
            "23610   5103.5   30.0862  0.29117  2.2831\n",
            "\n",
            "[23609 rows x 4 columns]\n",
            "===================================================================\n",
            "The Target Data:        GE_Main\n",
            "2            9\n",
            "3            9\n",
            "4            9\n",
            "5            9\n",
            "6            9\n",
            "7            9\n",
            "8            9\n",
            "9            9\n",
            "10           9\n",
            "11           9\n",
            "12           9\n",
            "13           9\n",
            "14           9\n",
            "15           9\n",
            "16           9\n",
            "17           9\n",
            "18           9\n",
            "19           9\n",
            "20           9\n",
            "21           9\n",
            "22           9\n",
            "23           9\n",
            "24           9\n",
            "25           9\n",
            "26           9\n",
            "27           9\n",
            "28           9\n",
            "29           9\n",
            "30           9\n",
            "31           9\n",
            "...        ...\n",
            "23581       10\n",
            "23582       10\n",
            "23583       10\n",
            "23584       10\n",
            "23585       10\n",
            "23586        4\n",
            "23587        4\n",
            "23588        4\n",
            "23589        4\n",
            "23590        4\n",
            "23591        4\n",
            "23592        4\n",
            "23593        4\n",
            "23594        4\n",
            "23595        4\n",
            "23596        4\n",
            "23597        4\n",
            "23598        4\n",
            "23599        4\n",
            "23600        4\n",
            "23601        4\n",
            "23602        4\n",
            "23603        4\n",
            "23604        4\n",
            "23605        4\n",
            "23606        4\n",
            "23607        4\n",
            "23608        4\n",
            "23609        4\n",
            "23610        4\n",
            "\n",
            "[23609 rows x 1 columns]\n"
          ]
        }
      ],
      "source": [
        "print(\"The Train Data:\",X)\n",
        "print(\"===================================================================\")\n",
        "print(\"The Target Data:\",y)"
      ]
    },
    {
      "cell_type": "markdown",
      "metadata": {
        "id": "LaV7fT237vAi"
      },
      "source": [
        "### Scaling\n",
        "Scikit includes a preprocessing module that can '`standardize`' the data (giving each variable zero mean and unit variance, also called whitening). Many machine learning algorithms assume features will be standard normally distributed data (ie: Gaussian with zero mean and unit variance). The factors used to standardize the training set must be applied to any subsequent feature set that will be input to the classifier. The StandardScalar class can be fit to the training set, and later used to standardize any training data.\n",
        "\n"
      ]
    },
    {
      "cell_type": "markdown",
      "metadata": {
        "id": "OatYfHIT8__p"
      },
      "source": [
        "When we use Standardscaler and when we use normalizer ?\n",
        "\n",
        "`StandardScaler` : It transforms the data in such a manner that it has mean as 0 and standard deviation as 1. In short, it standardizes the data. Standardization is useful for data which has negative values. It arranges the data in a standard normal distribution. It is more useful in classification than regression.\n",
        "\n",
        "`Normalizer` : It squeezes the data between 0 and 1. It performs normalization. Due to the decreased range and magnitude, the gradients in the training process do not explode and you do not get higher values of loss. Is more useful in regression than classification."
      ]
    },
    {
      "cell_type": "code",
      "execution_count": null,
      "metadata": {
        "id": "TAfVymaD54qX"
      },
      "outputs": [],
      "source": [
        "#Standardizing\n",
        "scaler = preprocessing.StandardScaler().fit(X)\n",
        "scaled_features = scaler.transform(X)"
      ]
    },
    {
      "cell_type": "code",
      "execution_count": null,
      "metadata": {
        "id": "FsyQdPLG-Pjb"
      },
      "outputs": [],
      "source": [
        "X_train, X_test, y_train, y_test = train_test_split(scaled_features, y, test_size = 0.3, random_state = 100)"
      ]
    },
    {
      "cell_type": "markdown",
      "metadata": {
        "id": "6ou5TiDJBHD5"
      },
      "source": [
        "## Logistic Regression"
      ]
    },
    {
      "cell_type": "code",
      "execution_count": null,
      "metadata": {
        "colab": {
          "base_uri": "https://localhost:8080/"
        },
        "id": "5w2Bvrj8-5ga",
        "outputId": "8206e849-7c9d-4f56-ffa5-c1ffc944f0b9"
      },
      "outputs": [
        {
          "name": "stdout",
          "output_type": "stream",
          "text": [
            "--------------The Accuracy of the model----------------------------\n",
            "The accuracy of the Logistic Regression is 61.23\n",
            "The cross validated score for Logistic Regression is: 53.7\n"
          ]
        }
      ],
      "source": [
        "model_reg = LogisticRegression()\n",
        "clf = model_reg.fit(X_train,y_train)\n",
        "prediction_lr=model_reg.predict(X_test)\n",
        "pred_train= model_reg.predict(X_train)\n",
        "print('--------------The Accuracy of the model----------------------------')\n",
        "print('The accuracy of the Logistic Regression is',round(accuracy_score(prediction_lr,y_test)*100,2))\n",
        "\n",
        "kfold = KFold(n_splits=10, random_state=22,shuffle=True) # k=10, split the data into 10 equal parts\n",
        "result_lr=cross_val_score(model_reg,X,y,cv=10,scoring='accuracy')\n",
        "print('The cross validated score for Logistic Regression is:',round(result_lr.mean()*100,2))\n",
        "#y_pred = cross_val_predict(model_reg,X,y,cv=10)\n",
        "# sns.heatmap(confusion_matrix(y,y_pred),annot=True,fmt='3.0f',cmap=\"summer\")\n",
        "# plt.title('Confusion_matrix', y=1.05, size=15)\n",
        "#######################\n"
      ]
    },
    {
      "cell_type": "markdown",
      "metadata": {
        "id": "T8L_NLdSsu6h"
      },
      "source": [
        "Interpretation of the results above :\n",
        "a) when you test a model over the same data you used to create the model, We have overfitting\n",
        "b) when We use cross-validation, you expect to have less overfitting but also a more realistic proxy for the accuracy.\n",
        "\n",
        "My advice is not to think of the `62.09%` as the benchmark for the accuracy of our models, as the number reflects overfitting. K-fold cross validation is not decreasing our accuracy, it is rather giving us a better approximation for that accuracy, including less overfitting. In other words, the accuracy of our models is (approximately) `53.73%`.\n",
        "\n",
        "If We want to improve the accuracy, think of improving accuracy computing with k-fold cross validation. There are several ways to try to improve, for example:\n",
        "\n",
        "* a) get more data/better data\n",
        "* b) try other classifiers - svm, random forest, etc\n",
        "* c) try which combinations of features seems to work best\n",
        "* d) generate better features"
      ]
    },
    {
      "cell_type": "code",
      "execution_count": null,
      "metadata": {
        "colab": {
          "base_uri": "https://localhost:8080/"
        },
        "id": "TT7UALj1FhPd",
        "outputId": "38fea700-f6c4-411a-fe03-e3fd7d3e61c3"
      },
      "outputs": [
        {
          "name": "stdout",
          "output_type": "stream",
          "text": [
            "accuracy for test: 0.6123111675843569\n",
            "accuracy for train: 0.6119448142321191\n"
          ]
        }
      ],
      "source": [
        "\n",
        "## Overfitting and underfitting with logistic regression\n",
        "print(\"accuracy for test:\",accuracy_score(y_test,prediction_lr))\n",
        "print(\"accuracy for train:\",accuracy_score(y_train,pred_train))\n"
      ]
    },
    {
      "cell_type": "markdown",
      "metadata": {
        "id": "zvBX24y0IvR6"
      },
      "source": [
        "Here We can say that the accuracies aren't overfitted because the result of train and test are approximately equal, and which make it confusing to choose, in this situation lets apply GriSearch hyperparameter tuning to avoid any doubt\n",
        "- 0.62 for the test\n",
        "- 0.61 for the train\n",
        "0.62 and 0.61 aren't a high accuracy as we need\n",
        "#### Learning Curve :\n",
        "A learning curve is a plot of model learning performance over experience or time.\n",
        "\n",
        "Learning curves are a widely used diagnostic tool in machine learning for algorithms that learn from a training dataset incrementally. The model can be evaluated on the training dataset and on a hold out validation dataset after each update during training and plots of the measured performance can created to show learning curves. [Read More](https://https://machinelearningmastery.com/learning-curves-for-diagnosing-machine-learning-model-performance/#:~:text=A%20learning%20curve%20is%20a,from%20a%20training%20dataset%20incrementally.&text=Learning%20curves%20are%20plots%20that,time%20in%20terms%20of%20experience.)"
      ]
    },
    {
      "cell_type": "markdown",
      "metadata": {
        "id": "EW-KBE9bP0V7"
      },
      "source": [
        "### GridSearch with Logistic Regression"
      ]
    },
    {
      "cell_type": "code",
      "execution_count": null,
      "metadata": {
        "colab": {
          "base_uri": "https://localhost:8080/"
        },
        "id": "pI2xXvf1PzX_",
        "outputId": "696e0a34-9410-4115-f537-1f1289632de1"
      },
      "outputs": [
        {
          "name": "stdout",
          "output_type": "stream",
          "text": [
            "tuned hyperparameters :(best parameters)  {'C': 1.0, 'penalty': 'l2'}\n",
            "accuracy : 0.6118243812336217\n"
          ]
        }
      ],
      "source": [
        "grid={\"C\":np.logspace(-3,3,7), \"penalty\":[\"l1\",\"l2\"]}# l1 lasso l2 ridge\n",
        "logreg_cv=GridSearchCV(model_reg,grid,cv=10)\n",
        "logreg_cv.fit(X_train,y_train)\n",
        "\n",
        "print(\"tuned hyperparameters :(best parameters) \",logreg_cv.best_params_)\n",
        "print(\"accuracy :\",logreg_cv.best_score_)\n"
      ]
    },
    {
      "cell_type": "markdown",
      "metadata": {
        "id": "-4RkowVvRKpx"
      },
      "source": [
        "### **RECAP**:\n",
        "`LogisticRegression` is not the best choice for our case"
      ]
    },
    {
      "cell_type": "markdown",
      "metadata": {
        "id": "hWCMWqBKEivU"
      },
      "source": [
        "### Random Forest"
      ]
    },
    {
      "cell_type": "code",
      "execution_count": null,
      "metadata": {
        "colab": {
          "base_uri": "https://localhost:8080/"
        },
        "id": "OZVbQ0pREUNa",
        "outputId": "420fdd83-1826-445e-d46a-22210f469f07"
      },
      "outputs": [
        {
          "name": "stdout",
          "output_type": "stream",
          "text": [
            "--------------The Accuracy of the model----------------------------\n",
            "The accuracy of the Random Forest Classifier is 83.62\n",
            "The cross validated score for Random Forest Classifier is: 59.7\n"
          ]
        }
      ],
      "source": [
        "model_RF = RandomForestClassifier(criterion='gini', n_estimators=700,\n",
        "                             min_samples_split=10,min_samples_leaf=1,\n",
        "                             max_features='auto',oob_score=True,\n",
        "                             random_state=1,n_jobs=-1)\n",
        "model_RF.fit(X_train,y_train)\n",
        "prediction_rm=model_RF.predict(X_test)\n",
        "pred_train_rm= model_RF.predict(X_train)\n",
        "print('--------------The Accuracy of the model----------------------------')\n",
        "print('The accuracy of the Random Forest Classifier is',round(accuracy_score(prediction_rm,y_test)*100,2))\n",
        "kfold = KFold(n_splits=10, random_state=22,shuffle = True) # k=10, split the data into 10 equal parts\n",
        "result_rm=cross_val_score(model_RF,X,y,cv=10,scoring='accuracy')\n",
        "print('The cross validated score for Random Forest Classifier is:',round(result_rm.mean()*100,2))\n",
        "#y_pred = cross_val_predict(model_RF,X,y,cv=10)\n",
        "# sns.heatmap(confusion_matrix(y,y_pred),annot=True,fmt='3.0f',cmap=\"summer\")\n",
        "# plt.title('Confusion_matrix', y=1.05, size=15)\n"
      ]
    },
    {
      "cell_type": "code",
      "execution_count": null,
      "metadata": {
        "colab": {
          "base_uri": "https://localhost:8080/"
        },
        "id": "67PMH5y1LPMl",
        "outputId": "d4a35d50-37c9-442e-9b5f-2c2d671eaefb"
      },
      "outputs": [
        {
          "name": "stdout",
          "output_type": "stream",
          "text": [
            "accuracy for test: 0.8362275871805732\n",
            "accuracy for train: 0.9566138206462544\n"
          ]
        }
      ],
      "source": [
        "\n",
        "## Overfitting and underfitting with Random Forest\n",
        "print(\"accuracy for test:\",accuracy_score(y_test,prediction_rm))\n",
        "print(\"accuracy for train:\",accuracy_score(y_train,pred_train_rm))\n"
      ]
    },
    {
      "cell_type": "markdown",
      "metadata": {
        "id": "OCbdiDWkR4mW"
      },
      "source": [
        "#### GridSearch with RandomForest"
      ]
    },
    {
      "cell_type": "code",
      "execution_count": null,
      "metadata": {
        "colab": {
          "base_uri": "https://localhost:8080/"
        },
        "id": "o_EhcAcaR5MP",
        "outputId": "197ccd57-a936-41a1-983f-1c5fe3428961"
      },
      "outputs": [
        {
          "data": {
            "text/plain": [
              "{'criterion': 'entropy',\n",
              " 'max_depth': 8,\n",
              " 'max_features': 'auto',\n",
              " 'n_estimators': 300}"
            ]
          },
          "execution_count": 40,
          "metadata": {},
          "output_type": "execute_result"
        }
      ],
      "source": [
        "\n",
        "# Parameters\n",
        "param_grid = {\n",
        "    'n_estimators': [200, 300],\n",
        "    'max_features': ['auto', 'sqrt', 'log2'],\n",
        "    'max_depth' : [4,5,6,7,8],\n",
        "    'criterion' :['gini', 'entropy']\n",
        "}\n",
        "\n",
        "CV_rfc = GridSearchCV(estimator=model_RF, param_grid=param_grid, cv= 5)\n",
        "CV_rfc.fit(X_train, y_train)\n",
        "\n",
        "CV_rfc.best_params_\n"
      ]
    },
    {
      "cell_type": "code",
      "execution_count": null,
      "metadata": {
        "colab": {
          "base_uri": "https://localhost:8080/"
        },
        "id": "yk3Z8KKk10H8",
        "outputId": "7091e5ce-1234-4ba7-bad9-845a855ff57d"
      },
      "outputs": [
        {
          "name": "stdout",
          "output_type": "stream",
          "text": [
            "The accuracy of RandomForest is : 0.7396224166760478\n"
          ]
        }
      ],
      "source": [
        "print(\"The accuracy of RandomForest is :\",CV_rfc.best_score_)"
      ]
    },
    {
      "cell_type": "markdown",
      "metadata": {
        "id": "y4lZzxOe0F0-"
      },
      "source": [
        "### Support Victor Machine SVM"
      ]
    },
    {
      "cell_type": "code",
      "execution_count": null,
      "metadata": {
        "colab": {
          "base_uri": "https://localhost:8080/"
        },
        "id": "YMIeHnDR0DYv",
        "outputId": "414f36a7-1916-442f-9fa7-d90fad55b276"
      },
      "outputs": [
        {
          "name": "stdout",
          "output_type": "stream",
          "text": [
            "--------------The Accuracy of the model----------------------------\n",
            "The accuracy of the Support Vector Machines Classifier is 67.43\n",
            "The cross validated score for Support Vector Machines Classifier is: 49.35\n"
          ]
        }
      ],
      "source": [
        "model_SVC = SVC()\n",
        "model_SVC.fit(X_train,y_train)\n",
        "prediction_svm=model_SVC.predict(X_test)\n",
        "pred_train_svm= model_SVC.predict(X_train)\n",
        "print('--------------The Accuracy of the model----------------------------')\n",
        "print('The accuracy of the Support Vector Machines Classifier is',round(accuracy_score(prediction_svm,y_test)*100,2))\n",
        "kfold = KFold(n_splits=10, random_state=22,shuffle = True) # k=10, split the data into 10 equal parts\n",
        "result_svm=cross_val_score(model_SVC,X,y,cv=10,scoring='accuracy')\n",
        "print('The cross validated score for Support Vector Machines Classifier is:',round(result_svm.mean()*100,2))\n",
        "#y_pred = cross_val_predict(model_SVC,X,y,cv=10)\n",
        "##sns.heatmap(confusion_matrix(y,y_pred),annot=True,fmt='3.0f',cmap=\"summer\")......\n",
        "##plt.title('Confusion_matrix', y=1.05, size=15)\n"
      ]
    },
    {
      "cell_type": "markdown",
      "metadata": {
        "id": "gbO5NcxacHIr"
      },
      "source": [
        "#### GridSearch with Support Vector Machine\n"
      ]
    },
    {
      "cell_type": "code",
      "execution_count": null,
      "metadata": {
        "id": "IaNMXOwGcOe1",
        "outputId": "78ccabd2-7bc3-4e05-c8d0-7737c656ec0a"
      },
      "outputs": [
        {
          "data": {
            "text/plain": [
              "GridSearchCV(cv=None, error_score=nan,\n",
              "             estimator=SVC(C=1.0, break_ties=False, cache_size=200,\n",
              "                           class_weight=None, coef0=0.0,\n",
              "                           decision_function_shape='ovr', degree=3,\n",
              "                           gamma='scale', kernel='rbf', max_iter=-1,\n",
              "                           probability=False, random_state=None, shrinking=True,\n",
              "                           tol=0.001, verbose=False),\n",
              "             iid='deprecated', n_jobs=None,\n",
              "             param_grid={'C': [0.1, 1, 10, 100, 1000],\n",
              "                         'gamma': [1, 0.1, 0.01, 0.001, 0.0001],\n",
              "                         'kernel': ['rbf']},\n",
              "             pre_dispatch='2*n_jobs', refit=False, return_train_score=False,\n",
              "             scoring=None, verbose=0)"
            ]
          },
          "execution_count": 43,
          "metadata": {},
          "output_type": "execute_result"
        }
      ],
      "source": [
        "\n",
        "# defining parameter range\n",
        "param_grid = {'C': [0.1, 1, 10, 100, 1000],\n",
        "              'gamma': [1, 0.1, 0.01, 0.001, 0.0001],\n",
        "              'kernel': ['rbf']}\n",
        "\n",
        "grid = GridSearchCV(SVC(), param_grid, refit = False, verbose = 0)\n",
        "\n",
        "# fitting the model for grid search\n",
        "grid.fit(X_train, y_train)\n",
        "\n",
        "# print best parameter after tuning\n",
        "#print(grid.best_params_)\n",
        "\n",
        "# print how our model looks after hyper-parameter tuning\n",
        "#print(grid.best_estimator_)\n"
      ]
    },
    {
      "cell_type": "code",
      "execution_count": null,
      "metadata": {
        "colab": {
          "base_uri": "https://localhost:8080/",
          "height": 163
        },
        "id": "R5KGPqpPzPqu",
        "outputId": "690463c9-aac7-44db-b70b-8049c92a9cfc"
      },
      "outputs": [
        {
          "name": "stdout",
          "output_type": "stream",
          "text": [
            "The best accuracy of SVC:  0.7856710350135865\n"
          ]
        }
      ],
      "source": [
        "print(\"The best accuracy of SVC: \", grid.best_score_)"
      ]
    },
    {
      "cell_type": "markdown",
      "metadata": {
        "id": "ZRZBsoLi1mkH"
      },
      "source": [
        "### KNN:"
      ]
    },
    {
      "cell_type": "code",
      "execution_count": null,
      "metadata": {
        "id": "myOg5Jo-2Cog",
        "outputId": "27237741-166e-42fe-9fe0-a127588b8261"
      },
      "outputs": [
        {
          "name": "stdout",
          "output_type": "stream",
          "text": [
            "--------------The Accuracy of the model----------------------------\n",
            "The accuracy of the K Nearst Neighbors Classifier is 78.26\n",
            "The cross validated score for K Nearest Neighbors Classifier is: 44.93\n"
          ]
        }
      ],
      "source": [
        "model_KNN = KNeighborsClassifier(n_neighbors = 4)\n",
        "model_KNN.fit(X_train,y_train)\n",
        "prediction_knn=model_KNN.predict(X_test)\n",
        "print('--------------The Accuracy of the model----------------------------')\n",
        "print('The accuracy of the K Nearst Neighbors Classifier is',round(accuracy_score(prediction_knn,y_test)*100,2))\n",
        "kfold = KFold(n_splits=10, random_state=22) # k=10, split the data into 10 equal parts\n",
        "result_knn=cross_val_score(model_KNN,X,y,cv=10,scoring='accuracy')\n",
        "print('The cross validated score for K Nearest Neighbors Classifier is:',round(result_knn.mean()*100,2))\n",
        "#y_pred = cross_val_predict(model_KNN,X,y,cv=10)\n",
        "#sns.heatmap(confusion_matrix(y,y_pred),annot=True,fmt='3.0f',cmap=\"summer\")\n",
        "#plt.title('Confusion_matrix', y=1.05, size=15)\n"
      ]
    },
    {
      "cell_type": "markdown",
      "metadata": {
        "id": "-772B1D0elhS"
      },
      "source": [
        "#### GridSearch with K_neighrest Neighbors"
      ]
    },
    {
      "cell_type": "code",
      "execution_count": null,
      "metadata": {
        "id": "Jm13LgJIIfTP",
        "outputId": "4738b517-3c65-4c98-f93b-e1a4785f7b14"
      },
      "outputs": [
        {
          "name": "stdout",
          "output_type": "stream",
          "text": [
            "Fitting 3 folds for each of 16 candidates, totalling 48 fits\n"
          ]
        },
        {
          "name": "stderr",
          "output_type": "stream",
          "text": [
            "[Parallel(n_jobs=-1)]: Using backend LokyBackend with 8 concurrent workers.\n",
            "[Parallel(n_jobs=-1)]: Done  48 out of  48 | elapsed:    5.2s finished\n"
          ]
        },
        {
          "data": {
            "text/plain": [
              "{'metric': 'manhattan', 'n_neighbors': 3, 'weights': 'distance'}"
            ]
          },
          "execution_count": 46,
          "metadata": {},
          "output_type": "execute_result"
        }
      ],
      "source": [
        "\n",
        "grid_params = {\n",
        "     'n_neighbors':[3,5,11,19],\n",
        "     'weights' : ['uniform', 'distance'],\n",
        "     'metric'  : ['euclidean', 'manhattan']}\n",
        "\n",
        "gs = GridSearchCV(\n",
        "      KNeighborsClassifier(),\n",
        "      grid_params,\n",
        "      verbose = 1,\n",
        "      cv = 3,\n",
        "      n_jobs = -1)\n",
        "\n",
        "gs_results = gs.fit(X_train, y_train)\n",
        "gs_results.best_score_\n",
        "gs_results.best_estimator_\n",
        "gs_results.best_params_\n"
      ]
    },
    {
      "cell_type": "code",
      "execution_count": null,
      "metadata": {
        "id": "IDderZD81P6J",
        "outputId": "bce6d6f1-a942-4460-e76b-e3964b4ffe11"
      },
      "outputs": [
        {
          "name": "stdout",
          "output_type": "stream",
          "text": [
            "The accuracy of KNN is : 0.7994674127357188\n"
          ]
        }
      ],
      "source": [
        "print(\"The accuracy of KNN is :\" ,gs_results.best_score_)"
      ]
    },
    {
      "cell_type": "markdown",
      "metadata": {
        "id": "OLV4504f3GTS"
      },
      "source": [
        "###XGBOOST algorithm"
      ]
    },
    {
      "cell_type": "code",
      "execution_count": null,
      "metadata": {
        "id": "RHm50uMA2F1i"
      },
      "outputs": [],
      "source": [
        "#Using the XGBoost Classifier. I have used just a few combinations here and there without GridSearch or RandomSearch\n",
        "# because the dataset was pretty small\n",
        "xg_cl = xgb.XGBClassifier(objective='multi:softprob', n_estimators=200,seed=123,learning_rate=0.15,max_depth=5,colsample_bytree=1,subsample=1)\n"
      ]
    },
    {
      "cell_type": "code",
      "execution_count": null,
      "metadata": {
        "id": "oKTuce0c3X2U"
      },
      "outputs": [],
      "source": [
        "eval_set = [(X_test, y_test)]\n",
        "\n",
        "clf = xg_cl.fit(X_train,\n",
        "              y_train,\n",
        "              eval_set=eval_set,\n",
        "              early_stopping_rounds=11,\n",
        "              verbose=False)\n"
      ]
    },
    {
      "cell_type": "code",
      "execution_count": null,
      "metadata": {
        "id": "LeJKYdIF6HF5"
      },
      "outputs": [],
      "source": [
        "# Predicted values using XGBOOST\n",
        "preds = xg_cl.predict(X_test)\n",
        "preds_train = xg_cl.predict(X_train)"
      ]
    },
    {
      "cell_type": "code",
      "execution_count": null,
      "metadata": {
        "id": "KtO5NC2C4WOc",
        "outputId": "5222c026-756a-4c9c-ba63-bd4482a51b88"
      },
      "outputs": [
        {
          "name": "stdout",
          "output_type": "stream",
          "text": [
            "accuracy for test: 0.8571226881265\n",
            "accuracy for train: 0.9729517124531042\n"
          ]
        }
      ],
      "source": [
        "## Overfitting and underfitting with XGBOOST\n",
        "print(\"accuracy for test:\",accuracy_score(y_test,preds))\n",
        "print(\"accuracy for train:\",accuracy_score(y_train,preds_train))"
      ]
    },
    {
      "cell_type": "markdown",
      "metadata": {
        "id": "XVWdooy0Xq7N"
      },
      "source": [
        "## The results above indicates that the model is overffited\n",
        "- Let's tune the hyperparameters to obtain the the best accuracy results"
      ]
    },
    {
      "cell_type": "code",
      "execution_count": null,
      "metadata": {
        "id": "hMdI4TYOXndz",
        "outputId": "c58753fd-bdb7-49c5-eede-76506430e040"
      },
      "outputs": [
        {
          "name": "stdout",
          "output_type": "stream",
          "text": [
            "Fitting 10 folds for each of 8 candidates, totalling 80 fits\n"
          ]
        },
        {
          "name": "stderr",
          "output_type": "stream",
          "text": [
            "[Parallel(n_jobs=4)]: Using backend LokyBackend with 4 concurrent workers.\n",
            "[Parallel(n_jobs=4)]: Done   5 tasks      | elapsed:    4.8s\n",
            "[Parallel(n_jobs=4)]: Done  10 tasks      | elapsed:    6.5s\n",
            "[Parallel(n_jobs=4)]: Done  17 tasks      | elapsed:    9.7s\n",
            "[Parallel(n_jobs=4)]: Done  24 tasks      | elapsed:   11.6s\n",
            "[Parallel(n_jobs=4)]: Done  33 tasks      | elapsed:   15.3s\n",
            "[Parallel(n_jobs=4)]: Done  42 tasks      | elapsed:   18.1s\n",
            "[Parallel(n_jobs=4)]: Done  53 tasks      | elapsed:   22.7s\n",
            "[Parallel(n_jobs=4)]: Done  64 tasks      | elapsed:   26.4s\n",
            "[Parallel(n_jobs=4)]: Done  80 out of  80 | elapsed:   31.9s finished\n"
          ]
        },
        {
          "name": "stdout",
          "output_type": "stream",
          "text": [
            "Best Grid Search Score :  0.7167493646375408\n"
          ]
        }
      ],
      "source": [
        "param_test = {\n",
        "    'reg_alpha':[1e-5, 1e-2, 0.1, 100],\n",
        "    'objective':['multi:softprob','multi:softmax']\n",
        "}\n",
        "gsearch = GridSearchCV(estimator =\n",
        "xgb.XGBClassifier(learning_rate =0.1,\n",
        "              n_estimators=10,\n",
        "              max_depth=5,\n",
        "              min_child_weight=2,\n",
        "              gamma=1,\n",
        "              subsample=0.85,\n",
        "              colsample_bytree=0.8,\n",
        "              nthread=4,\n",
        "              scale_pos_weight=1,\n",
        "              seed=27),\n",
        "              param_grid = param_test,\n",
        "              n_jobs=4,\n",
        "              iid=True,\n",
        "              cv=10,\n",
        "              verbose=10)\n",
        "\n",
        "gsearch.fit(X_train,y_train)\n",
        "\n",
        "#print('Best Grid Search Parameters :',gsearch.best_params_)\n",
        "print('Best Grid Search Score : ',gsearch.best_score_)"
      ]
    },
    {
      "cell_type": "markdown",
      "metadata": {
        "id": "_IwPJqSm6XmG"
      },
      "source": [
        "- Tuning the parameters above gives us an accuracy of `0.716` as a high accuracy"
      ]
    },
    {
      "cell_type": "code",
      "execution_count": null,
      "metadata": {
        "id": "KA_R4ObLDDTN",
        "outputId": "de805ad6-2132-4be1-c9a4-34e734df76e1"
      },
      "outputs": [
        {
          "data": {
            "text/html": [
              "<div>\n",
              "<style scoped>\n",
              "    .dataframe tbody tr th:only-of-type {\n",
              "        vertical-align: middle;\n",
              "    }\n",
              "\n",
              "    .dataframe tbody tr th {\n",
              "        vertical-align: top;\n",
              "    }\n",
              "\n",
              "    .dataframe thead th {\n",
              "        text-align: right;\n",
              "    }\n",
              "</style>\n",
              "<table border=\"1\" class=\"dataframe\">\n",
              "  <thead>\n",
              "    <tr style=\"text-align: right;\">\n",
              "      <th></th>\n",
              "      <th>M.Depth</th>\n",
              "      <th>GR</th>\n",
              "      <th>NPHI</th>\n",
              "      <th>RHOB</th>\n",
              "      <th>GE_Main</th>\n",
              "    </tr>\n",
              "  </thead>\n",
              "  <tbody>\n",
              "    <tr>\n",
              "      <th>1</th>\n",
              "      <td>4010.0</td>\n",
              "      <td>84.694</td>\n",
              "      <td>0.50674</td>\n",
              "      <td>2.278</td>\n",
              "      <td>9</td>\n",
              "    </tr>\n",
              "    <tr>\n",
              "      <th>2</th>\n",
              "      <td>4010.5</td>\n",
              "      <td>82.626</td>\n",
              "      <td>0.51526</td>\n",
              "      <td>2.252</td>\n",
              "      <td>9</td>\n",
              "    </tr>\n",
              "    <tr>\n",
              "      <th>3</th>\n",
              "      <td>4011.0</td>\n",
              "      <td>80.790</td>\n",
              "      <td>0.51195</td>\n",
              "      <td>2.237</td>\n",
              "      <td>9</td>\n",
              "    </tr>\n",
              "    <tr>\n",
              "      <th>4</th>\n",
              "      <td>4011.5</td>\n",
              "      <td>80.209</td>\n",
              "      <td>0.48551</td>\n",
              "      <td>2.225</td>\n",
              "      <td>9</td>\n",
              "    </tr>\n",
              "    <tr>\n",
              "      <th>5</th>\n",
              "      <td>4012.0</td>\n",
              "      <td>79.661</td>\n",
              "      <td>0.45111</td>\n",
              "      <td>2.203</td>\n",
              "      <td>9</td>\n",
              "    </tr>\n",
              "    <tr>\n",
              "      <th>6</th>\n",
              "      <td>4012.5</td>\n",
              "      <td>78.971</td>\n",
              "      <td>0.43483</td>\n",
              "      <td>2.196</td>\n",
              "      <td>9</td>\n",
              "    </tr>\n",
              "    <tr>\n",
              "      <th>7</th>\n",
              "      <td>4013.0</td>\n",
              "      <td>79.761</td>\n",
              "      <td>0.43998</td>\n",
              "      <td>2.220</td>\n",
              "      <td>9</td>\n",
              "    </tr>\n",
              "    <tr>\n",
              "      <th>8</th>\n",
              "      <td>4013.5</td>\n",
              "      <td>81.114</td>\n",
              "      <td>0.43073</td>\n",
              "      <td>2.255</td>\n",
              "      <td>9</td>\n",
              "    </tr>\n",
              "    <tr>\n",
              "      <th>9</th>\n",
              "      <td>4014.0</td>\n",
              "      <td>81.893</td>\n",
              "      <td>0.41756</td>\n",
              "      <td>2.267</td>\n",
              "      <td>9</td>\n",
              "    </tr>\n",
              "    <tr>\n",
              "      <th>10</th>\n",
              "      <td>4014.5</td>\n",
              "      <td>82.858</td>\n",
              "      <td>0.43789</td>\n",
              "      <td>2.259</td>\n",
              "      <td>9</td>\n",
              "    </tr>\n",
              "    <tr>\n",
              "      <th>11</th>\n",
              "      <td>4015.0</td>\n",
              "      <td>83.371</td>\n",
              "      <td>0.47782</td>\n",
              "      <td>2.255</td>\n",
              "      <td>9</td>\n",
              "    </tr>\n",
              "    <tr>\n",
              "      <th>12</th>\n",
              "      <td>4015.5</td>\n",
              "      <td>82.748</td>\n",
              "      <td>0.48494</td>\n",
              "      <td>2.263</td>\n",
              "      <td>9</td>\n",
              "    </tr>\n",
              "    <tr>\n",
              "      <th>13</th>\n",
              "      <td>4016.0</td>\n",
              "      <td>81.225</td>\n",
              "      <td>0.45212</td>\n",
              "      <td>2.278</td>\n",
              "      <td>9</td>\n",
              "    </tr>\n",
              "    <tr>\n",
              "      <th>14</th>\n",
              "      <td>4016.5</td>\n",
              "      <td>79.498</td>\n",
              "      <td>0.41001</td>\n",
              "      <td>2.301</td>\n",
              "      <td>9</td>\n",
              "    </tr>\n",
              "    <tr>\n",
              "      <th>15</th>\n",
              "      <td>4017.0</td>\n",
              "      <td>78.032</td>\n",
              "      <td>0.37316</td>\n",
              "      <td>2.334</td>\n",
              "      <td>9</td>\n",
              "    </tr>\n",
              "    <tr>\n",
              "      <th>16</th>\n",
              "      <td>4017.5</td>\n",
              "      <td>77.435</td>\n",
              "      <td>0.35454</td>\n",
              "      <td>2.366</td>\n",
              "      <td>9</td>\n",
              "    </tr>\n",
              "    <tr>\n",
              "      <th>17</th>\n",
              "      <td>4018.0</td>\n",
              "      <td>78.119</td>\n",
              "      <td>0.35632</td>\n",
              "      <td>2.370</td>\n",
              "      <td>9</td>\n",
              "    </tr>\n",
              "    <tr>\n",
              "      <th>18</th>\n",
              "      <td>4018.5</td>\n",
              "      <td>79.819</td>\n",
              "      <td>0.38619</td>\n",
              "      <td>2.343</td>\n",
              "      <td>9</td>\n",
              "    </tr>\n",
              "    <tr>\n",
              "      <th>19</th>\n",
              "      <td>4019.0</td>\n",
              "      <td>81.775</td>\n",
              "      <td>0.43801</td>\n",
              "      <td>2.308</td>\n",
              "      <td>9</td>\n",
              "    </tr>\n",
              "    <tr>\n",
              "      <th>20</th>\n",
              "      <td>4019.5</td>\n",
              "      <td>83.203</td>\n",
              "      <td>0.47382</td>\n",
              "      <td>2.285</td>\n",
              "      <td>9</td>\n",
              "    </tr>\n",
              "    <tr>\n",
              "      <th>21</th>\n",
              "      <td>4020.0</td>\n",
              "      <td>82.948</td>\n",
              "      <td>0.46668</td>\n",
              "      <td>2.283</td>\n",
              "      <td>9</td>\n",
              "    </tr>\n",
              "    <tr>\n",
              "      <th>22</th>\n",
              "      <td>4020.5</td>\n",
              "      <td>80.473</td>\n",
              "      <td>0.45721</td>\n",
              "      <td>2.289</td>\n",
              "      <td>9</td>\n",
              "    </tr>\n",
              "    <tr>\n",
              "      <th>23</th>\n",
              "      <td>4021.0</td>\n",
              "      <td>78.336</td>\n",
              "      <td>0.46832</td>\n",
              "      <td>2.290</td>\n",
              "      <td>9</td>\n",
              "    </tr>\n",
              "    <tr>\n",
              "      <th>24</th>\n",
              "      <td>4021.5</td>\n",
              "      <td>78.695</td>\n",
              "      <td>0.47477</td>\n",
              "      <td>2.282</td>\n",
              "      <td>9</td>\n",
              "    </tr>\n",
              "    <tr>\n",
              "      <th>25</th>\n",
              "      <td>4022.0</td>\n",
              "      <td>80.021</td>\n",
              "      <td>0.48208</td>\n",
              "      <td>2.272</td>\n",
              "      <td>9</td>\n",
              "    </tr>\n",
              "    <tr>\n",
              "      <th>26</th>\n",
              "      <td>4022.5</td>\n",
              "      <td>80.582</td>\n",
              "      <td>0.50643</td>\n",
              "      <td>2.264</td>\n",
              "      <td>9</td>\n",
              "    </tr>\n",
              "    <tr>\n",
              "      <th>27</th>\n",
              "      <td>4023.0</td>\n",
              "      <td>80.173</td>\n",
              "      <td>0.51461</td>\n",
              "      <td>2.263</td>\n",
              "      <td>9</td>\n",
              "    </tr>\n",
              "    <tr>\n",
              "      <th>28</th>\n",
              "      <td>4023.5</td>\n",
              "      <td>79.080</td>\n",
              "      <td>0.46984</td>\n",
              "      <td>2.269</td>\n",
              "      <td>9</td>\n",
              "    </tr>\n",
              "    <tr>\n",
              "      <th>29</th>\n",
              "      <td>4024.0</td>\n",
              "      <td>77.340</td>\n",
              "      <td>0.42908</td>\n",
              "      <td>2.278</td>\n",
              "      <td>9</td>\n",
              "    </tr>\n",
              "    <tr>\n",
              "      <th>30</th>\n",
              "      <td>4024.5</td>\n",
              "      <td>76.309</td>\n",
              "      <td>0.42951</td>\n",
              "      <td>2.285</td>\n",
              "      <td>9</td>\n",
              "    </tr>\n",
              "    <tr>\n",
              "      <th>...</th>\n",
              "      <td>...</td>\n",
              "      <td>...</td>\n",
              "      <td>...</td>\n",
              "      <td>...</td>\n",
              "      <td>...</td>\n",
              "    </tr>\n",
              "    <tr>\n",
              "      <th>1534</th>\n",
              "      <td>4776.5</td>\n",
              "      <td>59.688</td>\n",
              "      <td>0.27667</td>\n",
              "      <td>2.247</td>\n",
              "      <td>8</td>\n",
              "    </tr>\n",
              "    <tr>\n",
              "      <th>1535</th>\n",
              "      <td>4777.0</td>\n",
              "      <td>60.651</td>\n",
              "      <td>0.26769</td>\n",
              "      <td>2.243</td>\n",
              "      <td>8</td>\n",
              "    </tr>\n",
              "    <tr>\n",
              "      <th>1536</th>\n",
              "      <td>4777.5</td>\n",
              "      <td>61.518</td>\n",
              "      <td>0.25065</td>\n",
              "      <td>2.249</td>\n",
              "      <td>8</td>\n",
              "    </tr>\n",
              "    <tr>\n",
              "      <th>1537</th>\n",
              "      <td>4778.0</td>\n",
              "      <td>60.390</td>\n",
              "      <td>0.23999</td>\n",
              "      <td>2.256</td>\n",
              "      <td>8</td>\n",
              "    </tr>\n",
              "    <tr>\n",
              "      <th>1538</th>\n",
              "      <td>4778.5</td>\n",
              "      <td>57.880</td>\n",
              "      <td>0.24012</td>\n",
              "      <td>2.256</td>\n",
              "      <td>8</td>\n",
              "    </tr>\n",
              "    <tr>\n",
              "      <th>1539</th>\n",
              "      <td>4779.0</td>\n",
              "      <td>57.116</td>\n",
              "      <td>0.24398</td>\n",
              "      <td>2.252</td>\n",
              "      <td>8</td>\n",
              "    </tr>\n",
              "    <tr>\n",
              "      <th>1540</th>\n",
              "      <td>4779.5</td>\n",
              "      <td>58.915</td>\n",
              "      <td>0.24389</td>\n",
              "      <td>2.249</td>\n",
              "      <td>8</td>\n",
              "    </tr>\n",
              "    <tr>\n",
              "      <th>1541</th>\n",
              "      <td>4780.0</td>\n",
              "      <td>60.802</td>\n",
              "      <td>0.24868</td>\n",
              "      <td>2.252</td>\n",
              "      <td>8</td>\n",
              "    </tr>\n",
              "    <tr>\n",
              "      <th>1542</th>\n",
              "      <td>4780.5</td>\n",
              "      <td>61.188</td>\n",
              "      <td>0.26493</td>\n",
              "      <td>2.265</td>\n",
              "      <td>8</td>\n",
              "    </tr>\n",
              "    <tr>\n",
              "      <th>1543</th>\n",
              "      <td>4781.0</td>\n",
              "      <td>60.848</td>\n",
              "      <td>0.28141</td>\n",
              "      <td>2.277</td>\n",
              "      <td>8</td>\n",
              "    </tr>\n",
              "    <tr>\n",
              "      <th>1544</th>\n",
              "      <td>4781.5</td>\n",
              "      <td>60.977</td>\n",
              "      <td>0.28193</td>\n",
              "      <td>2.268</td>\n",
              "      <td>8</td>\n",
              "    </tr>\n",
              "    <tr>\n",
              "      <th>1545</th>\n",
              "      <td>4782.0</td>\n",
              "      <td>61.895</td>\n",
              "      <td>0.27424</td>\n",
              "      <td>2.234</td>\n",
              "      <td>8</td>\n",
              "    </tr>\n",
              "    <tr>\n",
              "      <th>1546</th>\n",
              "      <td>4782.5</td>\n",
              "      <td>62.545</td>\n",
              "      <td>0.27178</td>\n",
              "      <td>2.194</td>\n",
              "      <td>8</td>\n",
              "    </tr>\n",
              "    <tr>\n",
              "      <th>1547</th>\n",
              "      <td>4783.0</td>\n",
              "      <td>62.228</td>\n",
              "      <td>0.27289</td>\n",
              "      <td>2.168</td>\n",
              "      <td>8</td>\n",
              "    </tr>\n",
              "    <tr>\n",
              "      <th>1548</th>\n",
              "      <td>4783.5</td>\n",
              "      <td>62.090</td>\n",
              "      <td>0.27365</td>\n",
              "      <td>2.160</td>\n",
              "      <td>8</td>\n",
              "    </tr>\n",
              "    <tr>\n",
              "      <th>1549</th>\n",
              "      <td>4784.0</td>\n",
              "      <td>63.021</td>\n",
              "      <td>0.26878</td>\n",
              "      <td>2.167</td>\n",
              "      <td>8</td>\n",
              "    </tr>\n",
              "    <tr>\n",
              "      <th>1550</th>\n",
              "      <td>4784.5</td>\n",
              "      <td>63.936</td>\n",
              "      <td>0.25560</td>\n",
              "      <td>2.186</td>\n",
              "      <td>8</td>\n",
              "    </tr>\n",
              "    <tr>\n",
              "      <th>1551</th>\n",
              "      <td>4785.0</td>\n",
              "      <td>63.617</td>\n",
              "      <td>0.24393</td>\n",
              "      <td>2.208</td>\n",
              "      <td>8</td>\n",
              "    </tr>\n",
              "    <tr>\n",
              "      <th>1552</th>\n",
              "      <td>4785.5</td>\n",
              "      <td>62.727</td>\n",
              "      <td>0.24248</td>\n",
              "      <td>2.216</td>\n",
              "      <td>8</td>\n",
              "    </tr>\n",
              "    <tr>\n",
              "      <th>1553</th>\n",
              "      <td>4786.0</td>\n",
              "      <td>62.451</td>\n",
              "      <td>0.24548</td>\n",
              "      <td>2.209</td>\n",
              "      <td>8</td>\n",
              "    </tr>\n",
              "    <tr>\n",
              "      <th>1554</th>\n",
              "      <td>4786.5</td>\n",
              "      <td>62.904</td>\n",
              "      <td>0.24233</td>\n",
              "      <td>2.198</td>\n",
              "      <td>8</td>\n",
              "    </tr>\n",
              "    <tr>\n",
              "      <th>1555</th>\n",
              "      <td>4787.0</td>\n",
              "      <td>63.868</td>\n",
              "      <td>0.23683</td>\n",
              "      <td>2.190</td>\n",
              "      <td>8</td>\n",
              "    </tr>\n",
              "    <tr>\n",
              "      <th>1556</th>\n",
              "      <td>4787.5</td>\n",
              "      <td>64.780</td>\n",
              "      <td>0.23437</td>\n",
              "      <td>2.190</td>\n",
              "      <td>8</td>\n",
              "    </tr>\n",
              "    <tr>\n",
              "      <th>1557</th>\n",
              "      <td>4788.0</td>\n",
              "      <td>65.055</td>\n",
              "      <td>0.23443</td>\n",
              "      <td>2.206</td>\n",
              "      <td>8</td>\n",
              "    </tr>\n",
              "    <tr>\n",
              "      <th>1558</th>\n",
              "      <td>4788.5</td>\n",
              "      <td>64.824</td>\n",
              "      <td>0.23314</td>\n",
              "      <td>2.256</td>\n",
              "      <td>8</td>\n",
              "    </tr>\n",
              "    <tr>\n",
              "      <th>1559</th>\n",
              "      <td>4789.0</td>\n",
              "      <td>64.436</td>\n",
              "      <td>0.22778</td>\n",
              "      <td>2.350</td>\n",
              "      <td>8</td>\n",
              "    </tr>\n",
              "    <tr>\n",
              "      <th>1560</th>\n",
              "      <td>4789.5</td>\n",
              "      <td>64.445</td>\n",
              "      <td>0.22185</td>\n",
              "      <td>2.461</td>\n",
              "      <td>8</td>\n",
              "    </tr>\n",
              "    <tr>\n",
              "      <th>1561</th>\n",
              "      <td>4790.0</td>\n",
              "      <td>64.972</td>\n",
              "      <td>0.22508</td>\n",
              "      <td>2.535</td>\n",
              "      <td>13</td>\n",
              "    </tr>\n",
              "    <tr>\n",
              "      <th>1562</th>\n",
              "      <td>4790.5</td>\n",
              "      <td>65.485</td>\n",
              "      <td>0.23484</td>\n",
              "      <td>2.552</td>\n",
              "      <td>13</td>\n",
              "    </tr>\n",
              "    <tr>\n",
              "      <th>1563</th>\n",
              "      <td>4791.0</td>\n",
              "      <td>65.707</td>\n",
              "      <td>0.24056</td>\n",
              "      <td>2.542</td>\n",
              "      <td>13</td>\n",
              "    </tr>\n",
              "  </tbody>\n",
              "</table>\n",
              "<p>1563 rows × 5 columns</p>\n",
              "</div>"
            ],
            "text/plain": [
              "      M.Depth      GR     NPHI   RHOB  GE_Main\n",
              "1      4010.0  84.694  0.50674  2.278        9\n",
              "2      4010.5  82.626  0.51526  2.252        9\n",
              "3      4011.0  80.790  0.51195  2.237        9\n",
              "4      4011.5  80.209  0.48551  2.225        9\n",
              "5      4012.0  79.661  0.45111  2.203        9\n",
              "6      4012.5  78.971  0.43483  2.196        9\n",
              "7      4013.0  79.761  0.43998  2.220        9\n",
              "8      4013.5  81.114  0.43073  2.255        9\n",
              "9      4014.0  81.893  0.41756  2.267        9\n",
              "10     4014.5  82.858  0.43789  2.259        9\n",
              "11     4015.0  83.371  0.47782  2.255        9\n",
              "12     4015.5  82.748  0.48494  2.263        9\n",
              "13     4016.0  81.225  0.45212  2.278        9\n",
              "14     4016.5  79.498  0.41001  2.301        9\n",
              "15     4017.0  78.032  0.37316  2.334        9\n",
              "16     4017.5  77.435  0.35454  2.366        9\n",
              "17     4018.0  78.119  0.35632  2.370        9\n",
              "18     4018.5  79.819  0.38619  2.343        9\n",
              "19     4019.0  81.775  0.43801  2.308        9\n",
              "20     4019.5  83.203  0.47382  2.285        9\n",
              "21     4020.0  82.948  0.46668  2.283        9\n",
              "22     4020.5  80.473  0.45721  2.289        9\n",
              "23     4021.0  78.336  0.46832  2.290        9\n",
              "24     4021.5  78.695  0.47477  2.282        9\n",
              "25     4022.0  80.021  0.48208  2.272        9\n",
              "26     4022.5  80.582  0.50643  2.264        9\n",
              "27     4023.0  80.173  0.51461  2.263        9\n",
              "28     4023.5  79.080  0.46984  2.269        9\n",
              "29     4024.0  77.340  0.42908  2.278        9\n",
              "30     4024.5  76.309  0.42951  2.285        9\n",
              "...       ...     ...      ...    ...      ...\n",
              "1534   4776.5  59.688  0.27667  2.247        8\n",
              "1535   4777.0  60.651  0.26769  2.243        8\n",
              "1536   4777.5  61.518  0.25065  2.249        8\n",
              "1537   4778.0  60.390  0.23999  2.256        8\n",
              "1538   4778.5  57.880  0.24012  2.256        8\n",
              "1539   4779.0  57.116  0.24398  2.252        8\n",
              "1540   4779.5  58.915  0.24389  2.249        8\n",
              "1541   4780.0  60.802  0.24868  2.252        8\n",
              "1542   4780.5  61.188  0.26493  2.265        8\n",
              "1543   4781.0  60.848  0.28141  2.277        8\n",
              "1544   4781.5  60.977  0.28193  2.268        8\n",
              "1545   4782.0  61.895  0.27424  2.234        8\n",
              "1546   4782.5  62.545  0.27178  2.194        8\n",
              "1547   4783.0  62.228  0.27289  2.168        8\n",
              "1548   4783.5  62.090  0.27365  2.160        8\n",
              "1549   4784.0  63.021  0.26878  2.167        8\n",
              "1550   4784.5  63.936  0.25560  2.186        8\n",
              "1551   4785.0  63.617  0.24393  2.208        8\n",
              "1552   4785.5  62.727  0.24248  2.216        8\n",
              "1553   4786.0  62.451  0.24548  2.209        8\n",
              "1554   4786.5  62.904  0.24233  2.198        8\n",
              "1555   4787.0  63.868  0.23683  2.190        8\n",
              "1556   4787.5  64.780  0.23437  2.190        8\n",
              "1557   4788.0  65.055  0.23443  2.206        8\n",
              "1558   4788.5  64.824  0.23314  2.256        8\n",
              "1559   4789.0  64.436  0.22778  2.350        8\n",
              "1560   4789.5  64.445  0.22185  2.461        8\n",
              "1561   4790.0  64.972  0.22508  2.535       13\n",
              "1562   4790.5  65.485  0.23484  2.552       13\n",
              "1563   4791.0  65.707  0.24056  2.542       13\n",
              "\n",
              "[1563 rows x 5 columns]"
            ]
          },
          "execution_count": 53,
          "metadata": {},
          "output_type": "execute_result"
        }
      ],
      "source": [
        "# In this part we split the data train test, but not by using train_test_split(), but by extracting the first Well as a test and all the remaining as a train Data\n",
        "# Let's create the subset Data with test (well01)\n",
        "\n",
        "well_1= data.loc[data[\"Well\"] ==1, ]\n",
        "well_t1= well_1.drop(columns=[\"GE_Main_cat\",\"Well\"], axis = 1)\n",
        "well_t1"
      ]
    },
    {
      "cell_type": "code",
      "execution_count": null,
      "metadata": {
        "id": "4qEFkE8MQma7"
      },
      "outputs": [],
      "source": [
        "y_w = well_t1[\"GE_Main\"]\n",
        "X_w = well_t1.drop(\"GE_Main\", axis = 1)"
      ]
    },
    {
      "cell_type": "markdown",
      "metadata": {
        "id": "rhfeY4SWO5zz"
      },
      "source": [
        "## Standardizing well_01 tp test"
      ]
    },
    {
      "cell_type": "code",
      "execution_count": null,
      "metadata": {
        "id": "9Aq6cMffNK4L"
      },
      "outputs": [],
      "source": [
        "#Standardizing\n",
        "scaler_w1 = preprocessing.StandardScaler().fit(X_w)\n",
        "scaled_features_w1 = scaler_w1.transform(X_w)"
      ]
    },
    {
      "cell_type": "code",
      "execution_count": null,
      "metadata": {
        "id": "dqh1x_F_PpfO"
      },
      "outputs": [],
      "source": [
        "#scaled_features_w1"
      ]
    },
    {
      "cell_type": "code",
      "execution_count": null,
      "metadata": {
        "id": "_XENmTEjQajx"
      },
      "outputs": [],
      "source": [
        "pred_w1 = xg_cl.predict(scaled_features_w1)"
      ]
    },
    {
      "cell_type": "code",
      "execution_count": null,
      "metadata": {
        "id": "t2rLyUWoR6EA",
        "outputId": "80205d8d-8fac-4453-e85f-609a73dbedf5"
      },
      "outputs": [
        {
          "name": "stdout",
          "output_type": "stream",
          "text": [
            "XGBOOST Accuracy score for the well_1: 0.5303902751119641\n"
          ]
        }
      ],
      "source": [
        "print(\"XGBOOST Accuracy score for the well_1:\", accuracy_score(y_w, pred_w1))"
      ]
    },
    {
      "cell_type": "code",
      "execution_count": null,
      "metadata": {
        "id": "YP6oWNjsVBCP",
        "outputId": "48986346-fdc4-4a75-e6b2-774677eb5cc7"
      },
      "outputs": [
        {
          "name": "stdout",
          "output_type": "stream",
          "text": [
            "              precision    recall  f1-score   support\n",
            "\n",
            "           0       0.11      0.07      0.09        29\n",
            "           1       0.19      0.23      0.21        31\n",
            "           2       0.00      0.00      0.00         0\n",
            "           3       0.00      0.00      0.00         0\n",
            "           4       0.74      0.94      0.83       354\n",
            "           5       0.00      0.00      0.00        20\n",
            "           7       0.72      0.69      0.70       137\n",
            "           8       0.16      0.30      0.21        46\n",
            "           9       0.82      0.65      0.73       463\n",
            "          10       0.00      0.00      0.00         5\n",
            "          11       0.00      0.00      0.00         0\n",
            "          12       0.59      0.24      0.34        67\n",
            "          13       0.14      0.10      0.12       141\n",
            "          14       0.48      0.39      0.43        80\n",
            "          16       0.12      0.64      0.20        25\n",
            "          17       0.03      0.01      0.01       165\n",
            "\n",
            "    accuracy                           0.53      1563\n",
            "   macro avg       0.26      0.27      0.24      1563\n",
            "weighted avg       0.55      0.53      0.53      1563\n",
            "\n"
          ]
        }
      ],
      "source": [
        "print(classification_report(y_w,pred_w1))"
      ]
    },
    {
      "cell_type": "code",
      "execution_count": null,
      "metadata": {
        "id": "WSq7b24X-2T3",
        "outputId": "634a1c9a-f5f9-4d03-be41-61b4129b5967"
      },
      "outputs": [
        {
          "data": {
            "text/html": [
              "<div>\n",
              "<style scoped>\n",
              "    .dataframe tbody tr th:only-of-type {\n",
              "        vertical-align: middle;\n",
              "    }\n",
              "\n",
              "    .dataframe tbody tr th {\n",
              "        vertical-align: top;\n",
              "    }\n",
              "\n",
              "    .dataframe thead th {\n",
              "        text-align: right;\n",
              "    }\n",
              "</style>\n",
              "<table border=\"1\" class=\"dataframe\">\n",
              "  <thead>\n",
              "    <tr style=\"text-align: right;\">\n",
              "      <th></th>\n",
              "      <th>Model type</th>\n",
              "      <th>Test_acc</th>\n",
              "      <th>Train_acc</th>\n",
              "      <th>cv_acc</th>\n",
              "    </tr>\n",
              "  </thead>\n",
              "  <tbody>\n",
              "    <tr>\n",
              "      <th>0</th>\n",
              "      <td>LogR</td>\n",
              "      <td>0.612311</td>\n",
              "      <td>0.611945</td>\n",
              "      <td>0.611824</td>\n",
              "    </tr>\n",
              "    <tr>\n",
              "      <th>1</th>\n",
              "      <td>RaForest</td>\n",
              "      <td>0.836228</td>\n",
              "      <td>0.956614</td>\n",
              "      <td>0.739622</td>\n",
              "    </tr>\n",
              "    <tr>\n",
              "      <th>2</th>\n",
              "      <td>SVM</td>\n",
              "      <td>67.43</td>\n",
              "      <td>49.350000</td>\n",
              "      <td>0.785671</td>\n",
              "    </tr>\n",
              "    <tr>\n",
              "      <th>3</th>\n",
              "      <td>KNN</td>\n",
              "      <td>/</td>\n",
              "      <td>78.260000</td>\n",
              "      <td>0.799467</td>\n",
              "    </tr>\n",
              "    <tr>\n",
              "      <th>4</th>\n",
              "      <td>XGBOOST</td>\n",
              "      <td>0.857123</td>\n",
              "      <td>0.972952</td>\n",
              "      <td>0.716749</td>\n",
              "    </tr>\n",
              "  </tbody>\n",
              "</table>\n",
              "</div>"
            ],
            "text/plain": [
              "  Model type  Test_acc  Train_acc    cv_acc\n",
              "0       LogR  0.612311   0.611945  0.611824\n",
              "1   RaForest  0.836228   0.956614  0.739622\n",
              "2        SVM     67.43  49.350000  0.785671\n",
              "3        KNN         /  78.260000  0.799467\n",
              "4    XGBOOST  0.857123   0.972952  0.716749"
            ]
          },
          "execution_count": 60,
          "metadata": {},
          "output_type": "execute_result"
        }
      ],
      "source": [
        "Accuracy_comparison = {\n",
        "    'Model type' : ['LogR', 'RaForest', 'SVM',\"KNN\",\"XGBOOST\"],\n",
        "    'Test_acc' : [accuracy_score(y_test,prediction_lr), accuracy_score(y_test,prediction_rm), round(accuracy_score(prediction_svm,y_test)*100,2),\"/\",accuracy_score(y_test,preds)],\n",
        "\n",
        "    'Train_acc' : [accuracy_score(y_train,pred_train), accuracy_score(y_train,pred_train_rm), round(result_svm.mean()*100,2),round(accuracy_score(prediction_knn,y_test)*100,2),accuracy_score(y_train,preds_train)]\n",
        "\n",
        "    ,'cv_acc' : [logreg_cv.best_score_, CV_rfc.best_score_ , grid.best_score_,gs_results.best_score_,gsearch.best_score_]\n",
        "}\n",
        "\n",
        "dfobj = pd.DataFrame(Accuracy_comparison)\n",
        "\n",
        "dfobj"
      ]
    },
    {
      "cell_type": "markdown",
      "metadata": {
        "id": "pB2_gaCmPsGJ"
      },
      "source": [
        "# F1 Score :\n",
        "In many cases we need need to use `F1 Score` instead of the `accuracy` to compare between `F1 score` and `Accuracy` :\n",
        "\n",
        "- To summarise the differences between the `F1 score` and the `accuracy`,\n",
        "`Accuracy` is used when the True Positives and True negatives are more important while `F1 score` is used when the False Negatives and False Positives are crucial\n",
        "\n",
        "- Accuracy can be used when the class distribution is similar while F1-score is a better metric when there are `imbalanced` classes as in the above case.\n",
        "- In most real-life classification problems, `imbalanced` class distribution exists and thus F1 score is a better metric to evaluate our model on.\n",
        "\n",
        "-  `F1 score` is considered perfect when it's `1` , while the model is a total failure when it's `0` ."
      ]
    },
    {
      "cell_type": "markdown",
      "metadata": {
        "id": "QJ9p18CLSeLH"
      },
      "source": [
        "## Predicted facies visualization"
      ]
    },
    {
      "cell_type": "code",
      "execution_count": null,
      "metadata": {
        "id": "D6D_E_PVSdCN"
      },
      "outputs": [],
      "source": [
        "\n",
        "facies_color = ['#F4D03F', '#F5B041','#DC7633','#6E2C00', '#1B4F72','#2E86C1', '#AED6F1', '#A569BD', '#196F3D', 'red','black', 'blue','#40E0D0','#CCCCFF','#DFFF00','green','yellow','#581845','#DAF7A6','#9FE2BF']\n",
        "pred_w1 = xg_cl.predict(scaled_features_w1)\n",
        "well_t1['XGB_Pred'] = pred_w1\n",
        "def compare_facies_plot(logs, compadre, facies_colors= []):\n",
        "\n",
        "    #make sure logs are sorted by depth\n",
        "    logs = logs.sort_values(by='M.Depth')\n",
        "    cmap_facies = colors.ListedColormap(\n",
        "            facies_colors[0:len(facies_colors)], 'indexed')\n",
        "\n",
        "    ztop=logs[\"M.Depth\"].min(); zbot=logs[\"M.Depth\"].max()\n",
        "\n",
        "    cluster1 = np.repeat(np.expand_dims(logs['GE_Main'].values,1), 100, 1)\n",
        "    cluster2 = np.repeat(np.expand_dims(logs[compadre].values,1), 100, 1)\n",
        "\n",
        "    f, ax = plt.subplots(nrows=1, ncols=5, figsize=(14, 11))\n",
        "    ax[0].plot(logs.GR, logs[\"M.Depth\"], '-g')\n",
        "    ax[1].plot(logs.NPHI, logs[\"M.Depth\"], '-')\n",
        "    ax[2].plot(logs.RHOB, logs[\"M.Depth\"], '-', color='0.5')\n",
        "    im1 = ax[3].imshow(cluster1, interpolation='none', aspect='auto',\n",
        "                    cmap=cmap_facies,vmin=1,vmax=9)\n",
        "    im2 = ax[4].imshow(cluster2, interpolation='none', aspect='auto',\n",
        "                    cmap=cmap_facies,vmin=1,vmax=9)\n",
        "\n",
        "    divider = make_axes_locatable(ax[4])\n",
        "    cax = divider.append_axes(\"right\", size=\"10%\", pad=0.05)\n",
        "    cbar=plt.colorbar(im2, cax=cax)\n",
        "    cbar.set_label((4*' ').join(['Do', 'CSF', 'PO',\n",
        "                                'LSF', ' AB ', ' CH.h ', ' B  ',\n",
        "                                ' CH ', ' IR ','PD','DF','FL','MB','BM.H','BM.L','ID',\n",
        "                                 'SS','CS','SF','MSF']))\n",
        "    cbar.set_ticks(range(0,1)); cbar.set_ticklabels('')\n",
        "\n",
        "    for i in range(len(ax)-2):\n",
        "        ax[i].set_ylim(ztop,zbot)\n",
        "        ax[i].invert_yaxis()\n",
        "        ax[i].grid()\n",
        "        ax[i].locator_params(axis='x', nbins=3)\n",
        "\n",
        "    ax[0].set_xlabel(\"GR\")\n",
        "    ax[0].set_xlim(logs.GR.min(),logs.GR.max())\n",
        "    ax[1].set_xlabel(\"NPHI\")\n",
        "    ax[1].set_xlim(logs.NPHI.min(),logs.NPHI.max())\n",
        "    ax[2].set_xlabel(\"RHOB\")\n",
        "    ax[2].set_xlim(logs.RHOB.min(),logs.RHOB.max())\n",
        "    ax[3].set_xlabel('Actual well')\n",
        "    ax[4].set_xlabel(compadre)\n",
        "\n",
        "    ax[1].set_yticklabels([]); ax[2].set_yticklabels([]); ax[3].set_yticklabels([])\n",
        "    ax[4].set_yticklabels([])\n",
        "\n",
        "    f.suptitle('Well_1', fontsize=14,y=0.94)\n",
        "\n"
      ]
    },
    {
      "cell_type": "code",
      "execution_count": null,
      "metadata": {
        "id": "yj1vUrXcS6ug",
        "outputId": "f1f02ec5-a48c-4f2b-85a9-3f4488d53710"
      },
      "outputs": [
        {
          "data": {
            "image/png": "[encoded data removed]",
            "text/plain": [
              "<Figure size 1008x792 with 6 Axes>"
            ]
          },
          "metadata": {
            "needs_background": "light"
          },
          "output_type": "display_data"
        }
      ],
      "source": [
        "#let's plot KNN result\n",
        "compare_facies_plot(well_t1, \"XGB_Pred\", facies_color)\n",
        "#plt.savefig(\"KNN.png\", dpi=400)"
      ]
    },
    {
      "cell_type": "code",
      "execution_count": null,
      "metadata": {
        "id": "A5Q8wpyZwMS6"
      },
      "outputs": [],
      "source": []
    },
    {
      "cell_type": "markdown",
      "metadata": {
        "id": "SrmM995F2vxB"
      },
      "source": [
        "## Well_01 prediction with all the models used"
      ]
    },
    {
      "cell_type": "code",
      "execution_count": null,
      "metadata": {
        "id": "RARjDh6-2tFQ"
      },
      "outputs": [],
      "source": [
        "# XGBOOST\n",
        "pred_w1 = xg_cl.predict(scaled_features_w1)\n",
        "well_t1['XGB_Pred'] = pred_w1\n",
        "\n",
        "# LnearRegression\n",
        "pred_w_Lg = model_reg.predict(scaled_features_w1)\n",
        "well_t1['LR_Pred'] = pred_w_Lg\n",
        "\n",
        "# RandomForest\n",
        "pred_w_RF = model_RF.predict(scaled_features_w1)\n",
        "well_t1['RF_Pred'] = pred_w_RF\n",
        "\n",
        "# SVC\n",
        "pred_w_SVC = model_SVC.predict(scaled_features_w1)\n",
        "well_t1['SVC_Pred'] = pred_w_SVC\n",
        "\n",
        "# KNN\n",
        "pred_w_KNN = model_KNN.predict(scaled_features_w1)\n",
        "well_t1['KNN_Pred'] = pred_w_KNN"
      ]
    },
    {
      "cell_type": "code",
      "execution_count": null,
      "metadata": {
        "id": "E8nSGRfZE10d"
      },
      "outputs": [],
      "source": [
        "facies_colors = ['#F4D03F', '#F5B041','#DC7633','#6E2C00', '#1B4F72','#2E86C1', '#00FFFF', '#A569BD', '#196F3D', 'red','black', 'blue','#40E0D0','#CCCCFF','#DFFF00','green','#FF00FF','#581845','#DAF7A6','#9FE2BF']\n",
        "\n",
        "def compare_all_facies(logs, Pred1, Pred2, Pred3, Pred4, Pred5, facies_colors):\n",
        "    #make sure logs are sorted by depth\n",
        "    logs = logs.sort_values(by='M.Depth')\n",
        "    cmap_facies = colors.ListedColormap(facies_colors[0:len(facies_colors)], 'indexed')\n",
        "    ztop=logs[\"M.Depth\"].min(); zbot=logs['M.Depth'].max()\n",
        "\n",
        "    cluster1 = np.repeat(np.expand_dims(logs['GE_Main'].values,1), 100, 1)\n",
        "    cluster2 = np.repeat(np.expand_dims(logs[Pred1].values,1), 100, 1)\n",
        "    cluster3 = np.repeat(np.expand_dims(logs[Pred2].values,1), 100, 1)\n",
        "    cluster4 = np.repeat(np.expand_dims(logs[Pred3].values,1), 100, 1)\n",
        "    cluster5 = np.repeat(np.expand_dims(logs[Pred4].values,1), 100, 1)\n",
        "    cluster6 = np.repeat(np.expand_dims(logs[Pred5].values,1), 100, 1)\n",
        "\n",
        "\n",
        "    f, ax = plt.subplots(nrows=1, ncols=6, figsize=(14, 11))\n",
        "\n",
        "    im1 = ax[0].imshow(cluster1, interpolation='none', aspect='auto',\n",
        "                       cmap=cmap_facies,vmin=1,vmax=9)\n",
        "    im2 = ax[1].imshow(cluster2, interpolation='none', aspect='auto',\n",
        "                       cmap=cmap_facies,vmin=1,vmax=9)\n",
        "    im3 = ax[2].imshow(cluster3, interpolation='none', aspect='auto',\n",
        "                       cmap=cmap_facies,vmin=1,vmax=9)\n",
        "    im4 = ax[3].imshow(cluster4, interpolation='none', aspect='auto',\n",
        "                       cmap=cmap_facies,vmin=1,vmax=9)\n",
        "    im5 = ax[4].imshow(cluster5, interpolation='none', aspect='auto',\n",
        "                       cmap=cmap_facies,vmin=1,vmax=9)\n",
        "    im6 = ax[5].imshow(cluster6, interpolation='none', aspect='auto',\n",
        "                       cmap=cmap_facies,vmin=1,vmax=9)\n",
        "\n",
        "\n",
        "\n",
        "    divider = make_axes_locatable(ax[5])\n",
        "    cax = divider.append_axes(\"right\", size=\"10%\", pad=0.05)\n",
        "    cbar=plt.colorbar(im2, cax=cax)\n",
        "    cbar.set_label((4*' ').join(['Do', 'CSF', 'PO',\n",
        "                                'LSF', ' AB ', ' CH.h ', ' B  ',\n",
        "                                ' CH ', ' IR ','PD','DF','FL','MB','BM.H','BM.L','ID',\n",
        "                                 'SS','CS','SF','MSF']))\n",
        "    cbar.set_ticks(range(0,1)); cbar.set_ticklabels('')\n",
        "\n",
        "    for i in range(len(ax)-6):\n",
        "        ax[i].set_ylim(ztop,zbot)\n",
        "        ax[i].invert_yaxis()\n",
        "        ax[i].grid()\n",
        "        ax[i].locator_params(axis='x', nbins=4)\n",
        "\n",
        "    ax[0].set_xlabel('Facies'); ax[1].set_xlabel(Pred1); ax[2].set_xlabel(Pred2)\n",
        "    ax[3].set_xlabel(Pred3); ax[4].set_xlabel(Pred4); ax[5].set_xlabel(Pred5)\n",
        "\n",
        "\n",
        "    #ax[0].set_yticklabels([]) ;\n",
        "    ax[1].set_yticklabels([]); ax[2].set_yticklabels([]); ax[3].set_yticklabels([])\n",
        "    ax[4].set_yticklabels([]); ax[5].set_yticklabels([])\n",
        "\n",
        "\n",
        "    ax[0].set_xticklabels([]); ax[1].set_xticklabels([]); ax[2].set_xticklabels([])\n",
        "    ax[3].set_xticklabels([]); ax[4].set_xticklabels([]); ax[5].set_xticklabels([])\n",
        "\n",
        "\n",
        "    f.suptitle('Various prediction models with well_1', fontsize=14,y=0.94)"
      ]
    },
    {
      "cell_type": "code",
      "execution_count": null,
      "metadata": {
        "id": "Ieeq5WtzGfxO",
        "outputId": "f70d7d79-d4ff-49bb-e85d-e6a449957798"
      },
      "outputs": [
        {
          "data": {
            "image/png": "[encoded data removed]",
            "text/plain": [
              "<Figure size 1008x792 with 7 Axes>"
            ]
          },
          "metadata": {
            "needs_background": "light"
          },
          "output_type": "display_data"
        }
      ],
      "source": [
        "compare_all_facies(well_t1,'XGB_Pred','LR_Pred','RF_Pred', 'SVC_Pred', 'KNN_Pred', facies_colors)\n",
        "#plt.savefig(\"Compo.png\", dpi=400)"
      ]
    },
    {
      "cell_type": "markdown",
      "metadata": {
        "id": "j3JmSMLZMbrd"
      },
      "source": [
        "## Adding the Well 11"
      ]
    },
    {
      "cell_type": "code",
      "execution_count": null,
      "metadata": {
        "id": "CSZ_85uUMTAr",
        "outputId": "a0cfc2c3-480b-4b60-a367-85b537d57326"
      },
      "outputs": [
        {
          "data": {
            "text/html": [
              "<div>\n",
              "<style scoped>\n",
              "    .dataframe tbody tr th:only-of-type {\n",
              "        vertical-align: middle;\n",
              "    }\n",
              "\n",
              "    .dataframe tbody tr th {\n",
              "        vertical-align: top;\n",
              "    }\n",
              "\n",
              "    .dataframe thead th {\n",
              "        text-align: right;\n",
              "    }\n",
              "</style>\n",
              "<table border=\"1\" class=\"dataframe\">\n",
              "  <thead>\n",
              "    <tr style=\"text-align: right;\">\n",
              "      <th></th>\n",
              "      <th>Well</th>\n",
              "      <th>M.Depth</th>\n",
              "      <th>GR</th>\n",
              "      <th>NPHI</th>\n",
              "      <th>RHOB</th>\n",
              "      <th>RT</th>\n",
              "    </tr>\n",
              "  </thead>\n",
              "  <tbody>\n",
              "    <tr>\n",
              "      <th>0</th>\n",
              "      <td>11</td>\n",
              "      <td>3865.5</td>\n",
              "      <td>87.3321</td>\n",
              "      <td>0.36162</td>\n",
              "      <td>2.1663</td>\n",
              "      <td>0.9319</td>\n",
              "    </tr>\n",
              "    <tr>\n",
              "      <th>1</th>\n",
              "      <td>11</td>\n",
              "      <td>3866.0</td>\n",
              "      <td>88.2989</td>\n",
              "      <td>0.38980</td>\n",
              "      <td>2.1605</td>\n",
              "      <td>0.8686</td>\n",
              "    </tr>\n",
              "    <tr>\n",
              "      <th>2</th>\n",
              "      <td>11</td>\n",
              "      <td>3866.5</td>\n",
              "      <td>89.4731</td>\n",
              "      <td>0.44508</td>\n",
              "      <td>2.2424</td>\n",
              "      <td>1.0376</td>\n",
              "    </tr>\n",
              "    <tr>\n",
              "      <th>3</th>\n",
              "      <td>11</td>\n",
              "      <td>3867.0</td>\n",
              "      <td>84.4193</td>\n",
              "      <td>0.46536</td>\n",
              "      <td>2.2696</td>\n",
              "      <td>1.2239</td>\n",
              "    </tr>\n",
              "    <tr>\n",
              "      <th>4</th>\n",
              "      <td>11</td>\n",
              "      <td>3867.5</td>\n",
              "      <td>83.0291</td>\n",
              "      <td>0.45216</td>\n",
              "      <td>2.2663</td>\n",
              "      <td>1.1861</td>\n",
              "    </tr>\n",
              "  </tbody>\n",
              "</table>\n",
              "</div>"
            ],
            "text/plain": [
              "   Well  M.Depth       GR     NPHI    RHOB      RT\n",
              "0    11   3865.5  87.3321  0.36162  2.1663  0.9319\n",
              "1    11   3866.0  88.2989  0.38980  2.1605  0.8686\n",
              "2    11   3866.5  89.4731  0.44508  2.2424  1.0376\n",
              "3    11   3867.0  84.4193  0.46536  2.2696  1.2239\n",
              "4    11   3867.5  83.0291  0.45216  2.2663  1.1861"
            ]
          },
          "execution_count": 70,
          "metadata": {},
          "output_type": "execute_result"
        }
      ],
      "source": [
        "# Adding the Well 11\n",
        "test_well_11 = pd.read_excel(r\"C:\\Users\\dell\\Downloads\\i9999_logs_export_test.xlsm\")\n",
        "test_well_11.head()"
      ]
    },
    {
      "cell_type": "markdown",
      "metadata": {
        "id": "bNYb1gp3Vusj"
      },
      "source": [
        "##### HINT:\n",
        "The Accuracy of RandomForest and XGBOOST are approximately the same in train and test\n"
      ]
    },
    {
      "cell_type": "code",
      "execution_count": null,
      "metadata": {
        "id": "kjYt6OgpwMS9"
      },
      "outputs": [],
      "source": [
        "test_well_11[\"Well\"] = test_well_11[\"Well\"].astype(int)\n",
        "test_well_11[\"M.Depth\"] = test_well_11[\"M.Depth\"].astype(float)\n",
        "test_well_11[\"GR\"] = test_well_11.GR.astype(float)\n",
        "test_well_11[\"NPHI\"] = test_well_11.NPHI.astype(float)\n",
        "test_well_11[\"RHOB\"] = test_well_11.RHOB.astype(float)\n",
        "data1 = test_well_11.copy()"
      ]
    },
    {
      "cell_type": "code",
      "execution_count": null,
      "metadata": {
        "id": "dJgoA3IxwMS9"
      },
      "outputs": [],
      "source": [
        "test_well_11.drop(\"RT\",axis = 1,inplace = True)"
      ]
    },
    {
      "cell_type": "code",
      "execution_count": null,
      "metadata": {
        "id": "L8kZuTjGwMS9"
      },
      "outputs": [],
      "source": [
        "test_well_11.drop(\"Well\",axis = 1,inplace = True)"
      ]
    },
    {
      "cell_type": "code",
      "execution_count": null,
      "metadata": {
        "id": "ZzphGPhDwMS9",
        "outputId": "f7b5dfa1-8509-4d85-aec8-8430b398505c"
      },
      "outputs": [
        {
          "data": {
            "text/html": [
              "<div>\n",
              "<style scoped>\n",
              "    .dataframe tbody tr th:only-of-type {\n",
              "        vertical-align: middle;\n",
              "    }\n",
              "\n",
              "    .dataframe tbody tr th {\n",
              "        vertical-align: top;\n",
              "    }\n",
              "\n",
              "    .dataframe thead th {\n",
              "        text-align: right;\n",
              "    }\n",
              "</style>\n",
              "<table border=\"1\" class=\"dataframe\">\n",
              "  <thead>\n",
              "    <tr style=\"text-align: right;\">\n",
              "      <th></th>\n",
              "      <th>M.Depth</th>\n",
              "      <th>GR</th>\n",
              "      <th>NPHI</th>\n",
              "      <th>RHOB</th>\n",
              "    </tr>\n",
              "  </thead>\n",
              "  <tbody>\n",
              "    <tr>\n",
              "      <th>0</th>\n",
              "      <td>3865.5</td>\n",
              "      <td>87.3321</td>\n",
              "      <td>0.36162</td>\n",
              "      <td>2.1663</td>\n",
              "    </tr>\n",
              "    <tr>\n",
              "      <th>1</th>\n",
              "      <td>3866.0</td>\n",
              "      <td>88.2989</td>\n",
              "      <td>0.38980</td>\n",
              "      <td>2.1605</td>\n",
              "    </tr>\n",
              "    <tr>\n",
              "      <th>2</th>\n",
              "      <td>3866.5</td>\n",
              "      <td>89.4731</td>\n",
              "      <td>0.44508</td>\n",
              "      <td>2.2424</td>\n",
              "    </tr>\n",
              "    <tr>\n",
              "      <th>3</th>\n",
              "      <td>3867.0</td>\n",
              "      <td>84.4193</td>\n",
              "      <td>0.46536</td>\n",
              "      <td>2.2696</td>\n",
              "    </tr>\n",
              "    <tr>\n",
              "      <th>4</th>\n",
              "      <td>3867.5</td>\n",
              "      <td>83.0291</td>\n",
              "      <td>0.45216</td>\n",
              "      <td>2.2663</td>\n",
              "    </tr>\n",
              "  </tbody>\n",
              "</table>\n",
              "</div>"
            ],
            "text/plain": [
              "   M.Depth       GR     NPHI    RHOB\n",
              "0   3865.5  87.3321  0.36162  2.1663\n",
              "1   3866.0  88.2989  0.38980  2.1605\n",
              "2   3866.5  89.4731  0.44508  2.2424\n",
              "3   3867.0  84.4193  0.46536  2.2696\n",
              "4   3867.5  83.0291  0.45216  2.2663"
            ]
          },
          "execution_count": 79,
          "metadata": {},
          "output_type": "execute_result"
        }
      ],
      "source": [
        "test_well_11.head()"
      ]
    },
    {
      "cell_type": "code",
      "execution_count": null,
      "metadata": {
        "id": "dr6VqGfIwMS-"
      },
      "outputs": [],
      "source": [
        "#Standardizing\n",
        "scaler = preprocessing.StandardScaler().fit(test_well_11)\n",
        "scaled_well = scaler.transform(test_well_11)"
      ]
    },
    {
      "cell_type": "code",
      "execution_count": null,
      "metadata": {
        "id": "q7_buGVYwMS-"
      },
      "outputs": [],
      "source": [
        "pred_w11 = xg_cl.predict(scaled_well)"
      ]
    },
    {
      "cell_type": "code",
      "execution_count": null,
      "metadata": {
        "id": "4enOl3E7wMS-",
        "outputId": "d24cbee8-5661-4085-d919-ed5409855f44"
      },
      "outputs": [
        {
          "data": {
            "text/plain": [
              "array([9, 9, 9, ..., 4, 4, 4])"
            ]
          },
          "execution_count": 77,
          "metadata": {},
          "output_type": "execute_result"
        }
      ],
      "source": [
        "pred_w11"
      ]
    },
    {
      "cell_type": "code",
      "execution_count": null,
      "metadata": {
        "id": "GeOXE7RowMS-",
        "outputId": "e60dc1d1-2825-410b-d23b-0466f739589e"
      },
      "outputs": [
        {
          "data": {
            "text/plain": [
              "9    3870.0\n",
              "9    3870.0\n",
              "9    3870.0\n",
              "9    3870.0\n",
              "9    3870.0\n",
              "9    3870.0\n",
              "9    3870.0\n",
              "9    3870.0\n",
              "9    3870.0\n",
              "9    3870.0\n",
              "9    3870.0\n",
              "9    3870.0\n",
              "9    3870.0\n",
              "9    3870.0\n",
              "9    3870.0\n",
              "9    3870.0\n",
              "9    3870.0\n",
              "9    3870.0\n",
              "9    3870.0\n",
              "9    3870.0\n",
              "9    3870.0\n",
              "9    3870.0\n",
              "9    3870.0\n",
              "9    3870.0\n",
              "9    3870.0\n",
              "9    3870.0\n",
              "9    3870.0\n",
              "9    3870.0\n",
              "9    3870.0\n",
              "9    3870.0\n",
              "      ...  \n",
              "4    3867.5\n",
              "4    3867.5\n",
              "4    3867.5\n",
              "4    3867.5\n",
              "4    3867.5\n",
              "4    3867.5\n",
              "4    3867.5\n",
              "4    3867.5\n",
              "4    3867.5\n",
              "4    3867.5\n",
              "4    3867.5\n",
              "4    3867.5\n",
              "4    3867.5\n",
              "4    3867.5\n",
              "4    3867.5\n",
              "4    3867.5\n",
              "4    3867.5\n",
              "4    3867.5\n",
              "4    3867.5\n",
              "4    3867.5\n",
              "4    3867.5\n",
              "4    3867.5\n",
              "4    3867.5\n",
              "4    3867.5\n",
              "4    3867.5\n",
              "4    3867.5\n",
              "4    3867.5\n",
              "4    3867.5\n",
              "4    3867.5\n",
              "4    3867.5\n",
              "Name: M.Depth, Length: 1954, dtype: float64"
            ]
          },
          "execution_count": 89,
          "metadata": {},
          "output_type": "execute_result"
        }
      ],
      "source": [
        "prediction = pd.Series(test_well_11[\"M.Depth\"],pred_w11)\n",
        "prediction"
      ]
    },
    {
      "cell_type": "markdown",
      "metadata": {
        "id": "mnYGDMwiWN1l"
      },
      "source": [
        "- one of techniques that we usually use\n",
        " - `Early Stopping`\n",
        " - Changing the `test size `"
      ]
    },
    {
      "cell_type": "markdown",
      "metadata": {
        "id": "njNSGBqIk-Eg"
      },
      "source": [
        "#### Notes in my consideration:\n",
        "My model needs be improved (change parameters)\n",
        "- I may need to try a different machine learning algorithm (not all algorithms created equal)\n",
        "- I need more data (subtle relationship difficult to find)\n",
        "- I may need to try transforming my data (dependent upon algorithm used)\n",
        "There may be no relationship between the dependent and independent variables\n",
        "\n",
        "- **The fact of the matter is**, a lower testing metric (e.g. accuracy) than your training is indicative of overfitting your model not something you want when trying to create a new predictive model."
      ]
    },
    {
      "cell_type": "code",
      "execution_count": null,
      "metadata": {
        "id": "RY08--d4oamX"
      },
      "outputs": [],
      "source": [
        "!pip install cegaltools\n",
        "from cegaltools.plotting import CegalWellPlotter as cwp\n",
        "\n",
        "\n",
        "\n",
        "\n"
      ]
    },
    {
      "cell_type": "code",
      "execution_count": null,
      "metadata": {
        "id": "BLbGS9bbwMTA",
        "outputId": "3016a845-2324-498f-d439-ffa1e1a80087"
      },
      "outputs": [
        {
          "data": {
            "text/plain": [
              "'سمي'"
            ]
          },
          "execution_count": 97,
          "metadata": {},
          "output_type": "execute_result"
        }
      ],
      "source": [
        "from snowballstemmer import stemmer\n",
        "ar_stemmer = stemmer(\"arabic\")\n",
        "ar_stemmer.stemWord(u\"فسميتموها\")"
      ]
    }
  ],
  "metadata": {
    "accelerator": "TPU",
    "celltoolbar": "Format de la Cellule Texte Brut",
    "colab": {
      "provenance": []
    },
    "kernelspec": {
      "display_name": "Python 3",
      "language": "python",
      "name": "python3"
    },
    "language_info": {
      "codemirror_mode": {
        "name": "ipython",
        "version": 3
      },
      "file_extension": ".py",
      "mimetype": "text/x-python",
      "name": "python",
      "nbconvert_exporter": "python",
      "pygments_lexer": "ipython3",
      "version": "3.7.6"
    }
  },
  "nbformat": 4,
  "nbformat_minor": 0
}
